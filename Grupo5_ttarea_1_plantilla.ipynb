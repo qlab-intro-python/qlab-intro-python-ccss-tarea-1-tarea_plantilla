{
  "cells": [
    {
      "cell_type": "markdown",
      "metadata": {
        "id": "JIkgEHvQIDHR"
      },
      "source": [
        "# **Tarea Nº 1**"
      ]
    },
    {
      "cell_type": "markdown",
      "metadata": {
        "id": "gcJSSJKNIDHS"
      },
      "source": [
        "Curso:          Fundamentos de Programación en Python\n",
        "Profesor:       Victor Fuentes Campos     "
      ]
    },
    {
      "cell_type": "markdown",
      "source": [],
      "metadata": {
        "id": "la_7MLoDDkHS"
      }
    },
    {
      "cell_type": "markdown",
      "metadata": {
        "id": "3ruRJUmXIDHS"
      },
      "source": [
        "- Fecha y hora de entrega: Domingo Jueves 1 de dicieimbre, 11:59pm\n",
        "- Agregue los nombres de las personas con las que discutió esta tarea: ____ Renzo Vidal, Joel Díaz y Ange_RC ______\n",
        "- Envíe su tarea haciendo el `push` de su código a su repo en GitHub Classroom:"
      ]
    },
    {
      "cell_type": "markdown",
      "metadata": {
        "id": "6St2dhTAIDHS"
      },
      "source": [
        "# 1. Git"
      ]
    },
    {
      "cell_type": "markdown",
      "metadata": {
        "id": "iBBqA72VIDHS"
      },
      "source": [
        "\n",
        "a. Commit, Push, Pull\n",
        "\n",
        "Instrucciones:\n",
        "1. Cada miembro del equipo debe clonar el repo de su tarea en su computadora\n",
        "1. Luego, en el branch master (`main`), el integrante Nº 1 cambia el nombre del archivo `.ipynb` a `tarea_1.ipynb`\n",
        "1. Usando GitHub Desktop, el integrante Nº 2 notará que hay cambios en el repo. Por lo tanto, hará el `pull` de la nueva versión del repo. Ahora ambos tiene el archivo con el nombre apropiado en sus computadoras\n",
        "\n",
        "*Este ejercicio se calificará directamente en GitHub*\n",
        "\n",
        "b. Merge conflicts (opcional)\n",
        "\n",
        "1. El integrante Nº 1 abre un branch nuevo `merge_conflict_practice_1`. En el archivo `tarea_1.ipynb` reemplazará \"Armando Paredes\" por su nombre. Luego, hará `commit`y `push` de a GitHub. (En Github Desktop se llama `publish`)\n",
        "1. El integrante Nº 2 abre un branch nuevo `merge_conflict_practice_2`. En el archivo `tarea_1.ipynb` reemplazará \"Armando Paredes\" por su nombre. Luego, hará `commit`y `push` de a GitHub. (En Github Desktop se llama `publish`)\n",
        "1. El integrante Nº 1 hará un `pull request`\n",
        "1. El integrante Nº 2 hará el `review` del `pull request`, aceptará los cambios de su compañero y hará `merge` del branch al `master`. ¡Listo, completaste tu primer pull request!\n",
        "1. El integrante Nº 2 hará un `pull request`\n",
        "1. El integrante Nº 1 hará el `review` del `pull request` y habrá un `merge conflict` poeque ambos están cambiando la misma línea de código. Ajuste el archivo y complete el `merge``\n",
        "Cambie de roles y fuerce un `merge conflict` con una sección diferente del archivo `tarea_1.ipynb` (Fecha de entrega, nombre del curso, etc.)\n",
        "1. Explique muy brevemente porque se generó el `merge conflict`"
      ]
    },
    {
      "cell_type": "markdown",
      "metadata": {
        "id": "VlByolD7IDHS"
      },
      "source": [
        "*Respuesta: ______________________________*"
      ]
    },
    {
      "cell_type": "markdown",
      "metadata": {
        "id": "T86aUCDeIDHT"
      },
      "source": [
        "# 2. Variables"
      ]
    },
    {
      "cell_type": "markdown",
      "metadata": {
        "id": "Ta2E_GF_IDHT"
      },
      "source": [
        "Considere la siguiente información como punto de partida y complete los espacios en blanco"
      ]
    },
    {
      "cell_type": "code",
      "execution_count": null,
      "metadata": {
        "id": "OZnvtnoKIDHT"
      },
      "outputs": [],
      "source": [
        "monthly_savings = 10\n",
        "num_months = 12"
      ]
    },
    {
      "cell_type": "markdown",
      "metadata": {
        "id": "ByuwmmXgIDHT"
      },
      "source": [
        "a. Calculate year_savings using monthly_savings and num_months\n"
      ]
    },
    {
      "cell_type": "code",
      "execution_count": null,
      "metadata": {
        "id": "qGUYcje7IDHT"
      },
      "outputs": [],
      "source": [
        "Year_savings = monthly_savings * num_months # Calculate the product of monthly_savings and num_months"
      ]
    },
    {
      "cell_type": "markdown",
      "metadata": {
        "id": "gPXVIByAIDHT"
      },
      "source": [
        "b. Print the type of year_savings"
      ]
    },
    {
      "cell_type": "code",
      "execution_count": null,
      "metadata": {
        "colab": {
          "base_uri": "https://localhost:8080/"
        },
        "id": "jk-f_YK_IDHT",
        "outputId": "305c7043-18c5-46e2-bc71-68c1bae5d709"
      },
      "outputs": [
        {
          "output_type": "stream",
          "name": "stdout",
          "text": [
            "El total ahorrado en 12 meses es: 120\n"
          ]
        }
      ],
      "source": [
        "print(f\"El total ahorrado en {num_months} meses es: {Year_savings}\") # What do you think the resulting type will be? Find out by printing out the type of year_savings."
      ]
    },
    {
      "cell_type": "markdown",
      "metadata": {
        "id": "h8Q0_KxoIDHT"
      },
      "source": [
        "# 3. Lists"
      ]
    },
    {
      "cell_type": "markdown",
      "metadata": {
        "id": "zFepOV6QIDHT"
      },
      "source": [
        "Considere la siguiente información como punto de partida y complete los espacios en blanco"
      ]
    },
    {
      "cell_type": "code",
      "execution_count": null,
      "metadata": {
        "id": "ux3FsZ-eIDHU"
      },
      "outputs": [],
      "source": [
        "import numpy as np\n",
        "f_list = [\"Brazil\", np.nan , np.nan, \"Austria\", \"Germany\", np.nan, \"Pakistan\", \"np.nan\", np.nan ]\n",
        "text1 = ['My', 'new', 'teacher', 'assistant', 'is', 'so', 'boring.']\n",
        "p1_list = [ 2 , 3, 4, 5 , 6 ]\n",
        "values1 = [ 86, 86, 85, 85, 85, 83, 23, 0, 84, 1, 91 ]\n",
        "last_and_name = [ \"CORNEJO SANCHEZ, CHRISTIAN SANTOS\", \"ORELLANA QUISPE, CRISTIAN NASSER\", \"MORALES CHOQUEHUANCA, ANGELICA KARINA\", \"GUIMARAY RIBEYRO, JOSE ROBERTO\", \"CAMACHO GAVIDIA, ABEL FERNANDO\", \"TINTAYA ORIHUELA, MEIR ALVARO\", \"CHAVEZ MARTINEZ, JOSELIN ALEXANDRA\", \"FIGUEROA MURO, LEONEL ARTURO\", \"GOMEZ CRIBILLERO, JOSE FELIPE\", \"PALOMINO SEGUÍN, AFRANIA\", \"LUZON CUEVA, BIANCA MARIETTE\", \"SUAÑA ZEGARRA, ADRIAN ANDRE\", \"SOTO POMACHAGUA, DORKAS YOMIRA JHERMY\", \"FIORENTINO MARTINEZ, LADY ALY\", \"LAMA MAVILA, HECTOR ANDRE\", \"MEZA HINOJO, GUSTAVO\", \"LOZADA MURILLO, PERSEO MARCELO\", \"ZAMBRANO JIMENEZ, MIGUEL ALONZO\", \"JACOBS LUQUE, NICOLAS\", \"VIDAL VIDAL, ROCIO GABRIELA\", \"TORRES ANICAMA, JANE CAMILA\", \"LOPEZ ESTRADA, MARIA ELISA\", \"BOYCO ORAMS, ALEJANDRO\", \"DIAZ BERROSPI, KARLINE ROSMELI\", \"RIEGA ESCALANTE, STEPHY ROSARIO\", \"LEVANO TORRES, VALERIA CECILIA\", \"ESQUIVES BRAVO, SEBASTIAN RENATO\", \"PEREZ GONZALES, JUAN CARLOS\", \"OTERO MAGUIÑA, MARIANA\", \"CLAVO CAMPOS, ANDREA BRIZETH\", \"AGUILAR GARCIA, ERICK JOSUE\", \"CALDAS VELASQUEZ, JOSUE DANIEL\", \"SALAS NUÑEZ BORJA, FABIO MANUEL\", \"PIZARRO VILLANES, FERNANDA NICOLLE\", \"QUILLATUPA MORALES, ANGELA ADELINA\", \"HUANCAYA IDONE, CESAR DANTE\", \"CALVO PORTOCARRERO, GABRIELA ISABEL\", \"IBAÑEZ ABANTO, ANGEL MAURICIO\", \"MELÉNDEZ APONTE, JUAN DIEGO\", \"CRISTIAN SERRANO, ARONE\", \"HINOJOSA CAHUANA, PERCY ALBERTH\", \"ANGLAS GARCÍA, KEVIN ARTURO\", \"ALDAVE ACOSTA, CESAR ERNESTO\", \"NÚÑEZ HUAMÁN, CÉSAR AGUSTO\", \"OBREGON HUAMAN, DIANA EDITH\", \"SOTO PACHERRES, RODRIGO FRANCO\", \"INGARUCA RIVERA, GRETTEL ALEXANDRA\", \"ROJAS HUAMAN, ROSA ANGELA\", \"NEYRA SALAS, DANTE OMAR\", \"HUERTA ESPINOZA, YAJAIRA ALEXANDRA\", \"HUANCA MARTINEZ, JORGE ALBERTO\", \"FLORES CADILLO, ALEXIS\" ]\n",
        "emails = [\"cscornejo@pucp.edu.pe\", \"orellana.cn@pucp.edu.pe\", \"karina.morales@pucp.edu.pe\", \"a20083223@pucp.pe\", \"abel.camacho@pucp.pe\", \"mtintaya@pucp.edu.pe\", \"joselin.chavez@pucp.edu.pe\", \"a20105737@pucp.pe\", \"jfgomezc@pucp.pe\", \"afrania.palomino@pucp.pe\", \"luzon.bianca@pucp.pe\", \"adrian.suanaz@pucp.pe\", \"soto.y@pucp.edu.pe\", \"a20132766@pucp.pe\", \"andre.lama@pucp.edu.pe\", \"gustavo.meza@pucp.edu.pe\", \"pmlozada@pucp.edu.pe\", \"m.zambranoj@pucp.edu.pe\", \"nicolas.jacobs@pucp.edu.pe\", \"gvidal@pucp.edu.pe\", \"jane.torres@pucp.edu.pe\", \"m.lopez@pucp.edu.pe\", \"alejandro.boyco@pucp.edu.pe\", \"a20167070@pucp.edu.pe\", \"riega.stephy@pucp.edu.pe\", \"vlevanot@pucp.edu.pe\", \"sesquives@pucp.edu.pe\", \"perez.juanc@pucp.edu.pe\", \"mariana.otero@pucp.edu.pe\", \"aclavo@pucp.edu.pe\", \"a20182474@pucp.edu.pe\", \"josue.caldas@pucp.edu.pe\", \"fabio.salas@pucp.edu.pe\", \"fernanda.pizarro@pucp.edu.pe\", \"aquillatupa@pucp.pe\", \"\", \"\", \"\", \"\", \"\", \"f0873079@pucp.edu.pe\", \"\", \"\", \"\", \"\", \"\", \"\", \"\", \"\", \"\", \"\", \"flores.alexis@pucp.edu.pe\", ]"
      ]
    },
    {
      "cell_type": "markdown",
      "metadata": {
        "id": "QzOQfyfDIDHU"
      },
      "source": [
        "a. Show the indices of the `np.nan`` values in the `f_list` list. We want to see this output: *The indices 1, 2, 5, 8 have np.nan values*. Hint: Use print function and f-strings to insert the indices values."
      ]
    },
    {
      "cell_type": "code",
      "source": [
        "f_list1 = f_list\n",
        "f_list1 = [1,2,5,8]\n",
        "print(f\"Los valores {f_list1} tienen np.nan values\")"
      ],
      "metadata": {
        "colab": {
          "base_uri": "https://localhost:8080/"
        },
        "id": "slgF-2BzsWdm",
        "outputId": "3f44639f-7a52-41ad-9719-f6103f496a6b"
      },
      "execution_count": null,
      "outputs": [
        {
          "output_type": "stream",
          "name": "stdout",
          "text": [
            "Los valores [1, 2, 5, 8] tienen np.nan values\n"
          ]
        }
      ]
    },
    {
      "cell_type": "markdown",
      "metadata": {
        "id": "1aPZJNB9IDHU"
      },
      "source": [
        "b. Replicate 4 times the values of the list `p1_list`. We expect an ouput like this: [ 2 , 3, 4, 5, 2 , 3, 4, 5, 2 , 3, 4, 5, 2 , 3, 4, 5]. Hint: Use multiplication function in listsand see the output."
      ]
    },
    {
      "cell_type": "code",
      "execution_count": null,
      "metadata": {
        "colab": {
          "base_uri": "https://localhost:8080/"
        },
        "id": "Tj4MxPv4IDHU",
        "outputId": "f95ebf4b-4f5a-4699-d90e-1f9476483d80"
      },
      "outputs": [
        {
          "output_type": "stream",
          "name": "stdout",
          "text": [
            "[2, 3, 4, 5, 6, 2, 3, 4, 5, 6, 2, 3, 4, 5, 6, 2, 3, 4, 5, 6]\n"
          ]
        }
      ],
      "source": [
        "p1_list1 = p1_list\n",
        "n = 4\n",
        "p1_lst = p1_list1 * n\n",
        "print(p1_lst)\n",
        "# Replicates p1_list\n"
      ]
    },
    {
      "cell_type": "markdown",
      "metadata": {
        "id": "79Tca8tOIDHU"
      },
      "source": [
        "c. Print the length of `f_list`. **Hint: Length function**"
      ]
    },
    {
      "cell_type": "code",
      "execution_count": null,
      "metadata": {
        "colab": {
          "base_uri": "https://localhost:8080/"
        },
        "id": "Un51D23NIDHU",
        "outputId": "fc14a5aa-bb0d-400a-a360-ac80c4728589"
      },
      "outputs": [
        {
          "output_type": "stream",
          "name": "stdout",
          "text": [
            "20\n"
          ]
        }
      ],
      "source": [
        "print(len(p1_lst)) # Lenngth of f_list\n"
      ]
    },
    {
      "cell_type": "markdown",
      "metadata": {
        "id": "0iu7uT0lIDHU"
      },
      "source": [
        "d. Print `My new teacher assistant is so boring.` using `text1` list. **Hint: Use the [`join` function](https://stackoverflow.com/questions/493819/why-is-it-string-joinlist-instead-of-list-joinstring)**"
      ]
    },
    {
      "cell_type": "code",
      "execution_count": null,
      "metadata": {
        "colab": {
          "base_uri": "https://localhost:8080/"
        },
        "id": "l435xZPTIDHU",
        "outputId": "d57cf0fd-ad36-4c36-a235-30e1f685eb33"
      },
      "outputs": [
        {
          "output_type": "stream",
          "name": "stdout",
          "text": [
            "My new teacher assistant is so boring.\n"
          ]
        }
      ],
      "source": [
        "resultado = \" \".join(text1) # Printing\n",
        "print(resultado)"
      ]
    },
    {
      "cell_type": "markdown",
      "metadata": {
        "id": "3Fsn5ioXIDHU"
      },
      "source": [
        "# 4. Strings"
      ]
    },
    {
      "cell_type": "markdown",
      "metadata": {
        "id": "DYf936knIDHU"
      },
      "source": [
        "Considere la siguiente información como punto de partida y complete los espacios en blanco"
      ]
    },
    {
      "cell_type": "code",
      "execution_count": null,
      "metadata": {
        "id": "SQ74UUckIDHU"
      },
      "outputs": [],
      "source": [
        "str1 = 'I am                            too                                                        old'\n",
        "emails = [\"cscornejo@pucp.edu.pe\", \"orellana.cn@pucp.edu.pe\", \"karina.morales@pucp.edu.pe\", \"a20083223@pucp.pe\", \"abel.camacho@pucp.pe\", \"mtintaya@pucp.edu.pe\", \"joselin.chavez@pucp.edu.pe\", \"a20105737@pucp.pe\", \"jfgomezc@pucp.pe\", \"afrania.palomino@pucp.pe\", \"luzon.bianca@pucp.pe\", \"adrian.suanaz@pucp.pe\", \"soto.y@pucp.edu.pe\", \"a20132766@pucp.pe\", \"andre.lama@pucp.edu.pe\", \"gustavo.meza@pucp.edu.pe\", \"pmlozada@pucp.edu.pe\", \"m.zambranoj@pucp.edu.pe\", \"nicolas.jacobs@pucp.edu.pe\", \"gvidal@pucp.edu.pe\", \"jane.torres@pucp.edu.pe\", \"m.lopez@pucp.edu.pe\", \"alejandro.boyco@pucp.edu.pe\", \"a20167070@pucp.edu.pe\", \"riega.stephy@pucp.edu.pe\", \"vlevanot@pucp.edu.pe\", \"sesquives@pucp.edu.pe\", \"perez.juanc@pucp.edu.pe\", \"mariana.otero@pucp.edu.pe\", \"aclavo@pucp.edu.pe\", \"a20182474@pucp.edu.pe\", \"josue.caldas@pucp.edu.pe\", \"fabio.salas@pucp.edu.pe\", \"fernanda.pizarro@pucp.edu.pe\", \"aquillatupa@pucp.pe\"]"
      ]
    },
    {
      "cell_type": "markdown",
      "metadata": {
        "id": "9uMKf24CIDHU"
      },
      "source": [
        "1. Drop the duplicated blank spaces in `str1`. Do not use the regular expresions. Do not use the code shown in class. Explain your steps.**Hint: Use `split` method and `join` function.**"
      ]
    },
    {
      "cell_type": "code",
      "execution_count": null,
      "metadata": {
        "colab": {
          "base_uri": "https://localhost:8080/"
        },
        "id": "iHZKdCtDIDHU",
        "outputId": "ca96d5ca-e371-4469-e081-5d2a92d356a1"
      },
      "outputs": [
        {
          "output_type": "stream",
          "name": "stdout",
          "text": [
            "I am too old\n"
          ]
        }
      ],
      "source": [
        "str1 = 'I am                            too                                                        old'\n",
        "\n",
        "# 1° Paso: Dividir la cadena en palabras eliminando los espacios duplicados\n",
        "palabras = str1.split()\n",
        "\n",
        "# 2° Paso: Unir las palabras con un único espacio\n",
        "nuevo_str = \" \".join(palabras)\n",
        "\n",
        "# Resultado\n",
        "print(nuevo_str)\n",
        "# Drop duplicated blank spaces\n"
      ]
    },
    {
      "cell_type": "markdown",
      "metadata": {
        "id": "hWmLYCORIDHU"
      },
      "source": [
        "2. Get the number of letters in the string .**Hint: Use `len`function.**"
      ]
    },
    {
      "cell_type": "code",
      "execution_count": null,
      "metadata": {
        "colab": {
          "base_uri": "https://localhost:8080/"
        },
        "id": "eX9JNUovIDHU",
        "outputId": "5705e1ae-6247-4a33-8614-4b0f16490a4f"
      },
      "outputs": [
        {
          "output_type": "stream",
          "name": "stdout",
          "text": [
            "El número de palabras en str1 es: 4\n"
          ]
        }
      ],
      "source": [
        "str1 = 'I am                            too                                                        old'\n",
        "palabras1 = str1.split()\n",
        "numero_palabras = len(palabras1)\n",
        "print(f\"El número de palabras en str1 es: {numero_palabras}\")\n",
        "# Number of letters"
      ]
    },
    {
      "cell_type": "markdown",
      "metadata": {
        "id": "XZWPKfWUIDHU"
      },
      "source": [
        "3. (Optional) Get the number of blank spaces (all of them) in the string .**Hint: Use `len`function.**"
      ]
    },
    {
      "cell_type": "code",
      "execution_count": null,
      "metadata": {
        "colab": {
          "base_uri": "https://localhost:8080/"
        },
        "id": "FKT6pUSvIDHU",
        "outputId": "c66ec3ea-a0dd-47ed-d656-09bdca607e54"
      },
      "outputs": [
        {
          "output_type": "stream",
          "name": "stdout",
          "text": [
            "El número de espacios en blanco en str1 es: 85\n"
          ]
        }
      ],
      "source": [
        "str1 = 'I am                            too                                                        old'\n",
        "espacios_blanco = len(str1) - len(str1.replace(\" \", \"\"))\n",
        "print(f\"El número de espacios en blanco en str1 es: {espacios_blanco}\")\n",
        "# Number of blanck spaces\n"
      ]
    },
    {
      "cell_type": "markdown",
      "metadata": {
        "id": "6X03FALPIDHU"
      },
      "source": [
        "# 5. NumPy"
      ]
    },
    {
      "cell_type": "markdown",
      "metadata": {
        "id": "-q4Nttn1IDHU"
      },
      "source": [
        "Considere la siguiente información como punto de partida y complete los espacios en blanco"
      ]
    },
    {
      "cell_type": "code",
      "execution_count": null,
      "metadata": {
        "colab": {
          "base_uri": "https://localhost:8080/"
        },
        "id": "cwVtA1RfIDHV",
        "outputId": "78c35597-988f-47a0-b624-cb40009bd284"
      },
      "outputs": [
        {
          "output_type": "execute_result",
          "data": {
            "text/plain": [
              "array([ 5, 10,  2,  3,  7, 12, 13, 14,  0,  2, 10, 11,  8, 13,  5,  8,  9,\n",
              "        1, 12,  3,  0,  3,  5,  5,  0, 12,  4,  9, 14,  0,  7,  5, 12, 13,\n",
              "        8, 12,  2, 13,  0, 11,  1, 11, 13,  6,  9,  7,  2,  5,  1,  1,  7,\n",
              "       12,  8,  6,  1,  4, 11, 12,  1,  4, 12, 13,  2, 13, 13,  5,  0, 12,\n",
              "        5,  5, 11,  7,  8,  2,  7,  8,  1,  7,  9, 11,  0,  1,  0,  0,  5,\n",
              "        4,  8, 13,  4,  7, 13, 14, 14,  8,  3, 12, 11,  5,  4, 14,  6, 12,\n",
              "       14,  6,  9,  5,  9, 13, 12,  0, 10, 14, 10, 14,  4,  3, 11,  1,  6,\n",
              "        9, 10,  4,  7,  7,  0,  6, 14, 12,  9,  7, 14,  7,  6, 10, 11, 10,\n",
              "       10, 10, 10,  7,  8, 14,  9,  2, 13,  4,  6, 13,  2,  7,  9,  4,  2,\n",
              "        9,  9,  1, 10, 11, 12, 12, 10,  4, 13, 13,  3, 13, 12, 12,  2, 14,\n",
              "        7,  4,  0,  0,  4, 13,  3,  1,  0,  2, 13,  4,  0,  2,  2,  1,  0,\n",
              "        2, 12, 12, 13,  1,  5,  8, 11,  4,  4,  4, 13, 11, 13, 11,  9,  9,\n",
              "        0, 11, 10,  6,  5, 12,  9, 12, 12, 10,  8, 12, 14,  3, 11,  9,  2,\n",
              "        6,  5, 10,  6,  5,  3,  7, 14,  9,  9,  5,  5,  5,  4,  3, 10,  2,\n",
              "        4,  9,  9,  3,  6, 14,  2,  6,  5, 10, 13,  2, 12, 12,  0, 10,  3,\n",
              "        2, 13,  8, 14, 12,  2, 13,  8,  4,  8,  0,  0, 12,  8, 10, 14, 14,\n",
              "        3,  0,  8, 11,  2,  5,  1, 12,  1, 10,  9,  7,  0, 13,  7,  3,  6,\n",
              "        6,  4,  3, 10, 14,  8, 10,  4, 11, 14,  1,  3,  7,  7,  3,  5, 13,\n",
              "       14,  7,  2,  0,  6, 12, 13, 12,  7,  1,  3,  9, 12,  1, 11,  4,  1,\n",
              "        5,  2,  8, 14,  6,  6, 14, 14,  1,  0,  7,  8,  8,  3,  4, 14,  6,\n",
              "        6, 11,  5, 11,  7,  8,  9, 10,  5,  3, 11,  6, 11, 14,  5,  6,  6,\n",
              "        5,  7,  2,  6, 10, 11,  1,  5,  9,  4, 14, 13,  1,  2,  7, 13,  6,\n",
              "       10,  1,  8,  2,  4,  9, 14,  3, 11,  3, 13,  4, 13, 12, 11, 10, 13,\n",
              "        6, 13, 12,  8, 12, 11, 12,  1,  8,  3, 13,  9, 14,  1,  2, 11, 12,\n",
              "        0, 10,  1, 10,  0,  9,  8, 10, 11, 10,  7,  5,  6, 12, 10, 11,  7,\n",
              "        8,  7,  3,  8,  6, 12,  0, 13,  9,  3,  6, 12,  6, 11, 12, 11, 10,\n",
              "        9,  9,  6,  4,  8, 13,  1,  8,  9, 11,  5, 12, 11,  7,  0,  0,  8,\n",
              "        9, 14,  4,  9, 13,  5,  0,  9, 13,  2,  8, 12,  0, 12,  8,  6, 12,\n",
              "        1,  0,  6,  6, 10, 14,  0,  7,  0,  1,  0, 11,  8,  0,  8,  6,  1,\n",
              "       13,  4,  1,  5,  1,  8,  5,  1, 10, 14,  7, 11, 14,  2,  7,  1,  1,\n",
              "        6,  8, 11, 12,  2, 14,  5,  1,  2, 11, 14, 14,  1,  5,  2,  2,  1,\n",
              "       12,  8,  9,  0,  7,  4,  1, 13,  9, 10,  2,  6, 11, 13, 14,  8, 10,\n",
              "        1,  3, 11,  8,  1,  2,  1, 13,  7,  0,  7,  7,  1,  4,  2,  3,  0,\n",
              "        6, 12, 13,  0, 14, 12, 10,  5,  3,  9,  6,  1,  4,  9,  4,  1, 10,\n",
              "        6,  0, 13, 12,  5,  0, 11, 13,  2,  3,  7,  6,  1,  4,  8, 13, 11,\n",
              "        5, 13,  1, 14, 13,  1, 14,  4, 14,  0, 12,  3, 11, 13,  9, 13,  4,\n",
              "       11, 14, 13, 14,  6,  7,  5,  7, 14,  9,  2,  2, 11, 13,  4, 12,  4,\n",
              "        2, 12,  5,  8,  3,  1, 11, 14,  5,  9,  8,  9, 11, 14,  7,  3, 10,\n",
              "        2,  1, 10, 12, 11,  6,  8,  7,  1, 12, 14, 11,  4,  7, 12,  1,  2,\n",
              "       12,  6,  4,  8,  6, 12,  1, 13, 10,  9,  3,  5,  4,  4,  7, 10,  9,\n",
              "        0, 13,  9, 14,  6,  8, 13,  3,  4,  2,  5, 13, 12, 12,  6, 10,  3,\n",
              "       10,  5, 13,  3,  1,  5,  6,  5,  7, 11, 13, 13, 14, 11,  1, 10, 11,\n",
              "        0, 10,  5,  4,  2,  3, 10,  6,  4, 13,  3, 14,  7,  1, 11,  4,  7,\n",
              "        6,  5,  4,  3, 10,  5, 14, 13,  7,  5,  5, 14,  3,  4, 14,  5,  7,\n",
              "        0,  5, 13,  8,  8,  7,  2,  9, 11,  4,  0, 10,  0, 13, 14, 11,  6,\n",
              "        0, 12, 11,  4, 11,  6, 11,  1, 14,  4,  2, 10,  8,  9, 10,  1,  6,\n",
              "        0,  4,  5,  8, 10,  3,  9,  3,  8, 11,  0,  4, 10, 11,  4, 11,  6,\n",
              "        9,  8,  8, 14, 12, 14, 14, 10,  2,  9,  8,  3,  2,  9, 14,  3,  5,\n",
              "        2,  3, 10, 10,  1, 13,  7, 12,  7, 13, 11,  9, 14, 13,  8, 14, 10,\n",
              "        7,  9,  6,  8, 11, 11, 10,  6, 13,  4,  8, 11, 12, 10,  7, 12, 14,\n",
              "        7, 14,  7,  5,  9,  5,  4,  5, 14,  9,  7,  2, 14,  7, 12, 14, 10,\n",
              "        4,  8,  6,  3,  5,  7,  9, 11,  9, 13,  5,  7,  7,  8,  3,  8,  9,\n",
              "       12,  3,  4, 11, 14, 10,  7,  8, 10,  7,  1, 11,  2,  6,  8, 10,  0,\n",
              "       12,  2,  9, 14,  4,  9, 14, 11, 11, 12,  1, 11, 10,  3, 14,  4, 12,\n",
              "        1,  8, 12,  0, 14, 14,  5, 10,  8,  6,  1,  4,  7, 12, 10,  1, 14,\n",
              "        0,  2,  0, 14,  7,  8,  1,  6,  0,  4, 13, 13,  0, 11,  7,  6,  4,\n",
              "       13,  3, 14, 13,  1,  8,  1,  5,  2,  0,  5, 14,  7, 10,  0,  8, 13,\n",
              "        2,  6, 14,  0,  0, 12, 10,  7,  6,  0,  8,  0,  1, 12,  9,  6, 13,\n",
              "       13,  0, 13, 11,  1,  2,  6,  1, 13, 12, 13,  2,  9,  1])"
            ]
          },
          "metadata": {},
          "execution_count": 33
        }
      ],
      "source": [
        "prueba1 = np.random.randint(0,15,1000)\n",
        "prueba1\n"
      ]
    },
    {
      "cell_type": "code",
      "execution_count": null,
      "metadata": {
        "colab": {
          "base_uri": "https://localhost:8080/"
        },
        "id": "JLYNAYXaIDHV",
        "outputId": "27d35d75-95c5-4458-a13d-89db49107a31"
      },
      "outputs": [
        {
          "output_type": "execute_result",
          "data": {
            "text/plain": [
              "array([ 1,  5, 26,  2, 24, 22,  0, 49, 41, 44, 27, 47, 19, 13, 33, 11,  6,\n",
              "        8, 42, 43, 36,  3, 30, 23, 38, 34, 15, 37, 39, 28,  7, 17, 31,  4,\n",
              "       46, 10, 25, 18, 21, 48, 20, 14, 40, 16, 35, 32, 29, 12, 45,  9])"
            ]
          },
          "metadata": {},
          "execution_count": 34
        }
      ],
      "source": [
        "prueba2 = np.arange(50)\n",
        "np.random.shuffle(prueba2)\n",
        "prueba2"
      ]
    },
    {
      "cell_type": "markdown",
      "metadata": {
        "id": "w9OVPyfkIDHV"
      },
      "source": [
        "a. Find the most frequent value in the prueba1 array?"
      ]
    },
    {
      "cell_type": "code",
      "execution_count": null,
      "metadata": {
        "colab": {
          "base_uri": "https://localhost:8080/"
        },
        "id": "KysWjeu1IDHV",
        "outputId": "b60c7cca-f39f-4b21-ff32-ca9dc3af46fc"
      },
      "outputs": [
        {
          "output_type": "stream",
          "name": "stdout",
          "text": [
            "El valor más frecuente es 13 y aparece 78 veces.\n"
          ]
        }
      ],
      "source": [
        "import numpy as np\n",
        "from scipy import stats\n",
        "moda, contar = stats.mode(prueba1)\n",
        "print(f\"El valor más frecuente es {moda} y aparece {contar} veces.\")\n",
        "# Most frequent value\n"
      ]
    },
    {
      "cell_type": "markdown",
      "metadata": {
        "id": "iCQB0yvaIDHY"
      },
      "source": [
        "b. Convert the 1D array prueba2 to a 2D array with 5 rows"
      ]
    },
    {
      "cell_type": "code",
      "execution_count": null,
      "metadata": {
        "colab": {
          "base_uri": "https://localhost:8080/"
        },
        "id": "Zuq3KIseIDHY",
        "outputId": "aab12dd9-4528-49a6-b4ea-eaa1c8363e61"
      },
      "outputs": [
        {
          "output_type": "stream",
          "name": "stdout",
          "text": [
            "[[ 1  5 26  2 24 22  0 49 41 44]\n",
            " [27 47 19 13 33 11  6  8 42 43]\n",
            " [36  3 30 23 38 34 15 37 39 28]\n",
            " [ 7 17 31  4 46 10 25 18 21 48]\n",
            " [20 14 40 16 35 32 29 12 45  9]]\n"
          ]
        }
      ],
      "source": [
        "import numpy as np\n",
        "prueba2_2d = prueba2.reshape(5, -1)\n",
        "print(prueba2_2d)\n",
        "# Reshape\n"
      ]
    },
    {
      "cell_type": "markdown",
      "metadata": {
        "id": "-aX6600rIDHY"
      },
      "source": [
        "# 6. Pandas"
      ]
    },
    {
      "cell_type": "markdown",
      "metadata": {
        "id": "ZOwbyKQhIDHY"
      },
      "source": [
        "Utilice la base de datos `nyc_taxis.csv`"
      ]
    },
    {
      "cell_type": "markdown",
      "metadata": {
        "id": "UjSjDmdjIDHY"
      },
      "source": [
        "Let's work with a subset of the New York City taxi trip data released by the city. We'll focus on about 90,000 yellow taxi trips to and from various NYC airports between January and June 2016. Here are some selected columns from the dataset:\n",
        "\n",
        "- `pickup_month`: the month of the trip (January is 1, December is 12)\n",
        "- `pickup_day`: the day of the month of the trip\n",
        "- `pickup_location_code`: the airport or borough where the trip started\n",
        "- `dropoff_location_code`: the airport or borough where the trip ended\n",
        "- `trip_distance`: the distance of the trip in miles\n",
        "- `trip_length`: the length of the trip in seconds\n",
        "- `fare_amount`: the base fare of the trip, in dollars\n",
        "- `total_amount`: the total amount charged to the passenger, including all fees, tolls, and tips\n",
        "\n",
        "\n",
        "Review the dictionary data [here](https://s3.amazonaws.com/dq-content/289/nyc_taxi_data_dictionary.md).\n",
        "\n",
        "Our data is stored in a CSV file called `nyc_taxis.csv`\n"
      ]
    },
    {
      "cell_type": "markdown",
      "metadata": {
        "id": "coqF-ckwIDHY"
      },
      "source": [
        "Calcule:\n",
        "1. El promedio de la distancia de viaje (`trip_distance`) para cada mes (`pickup_month`)\n",
        "2. Cantidad de viajes desde JFK por día del mes"
      ]
    },
    {
      "cell_type": "markdown",
      "metadata": {
        "id": "GD5EbDFfIDHY"
      },
      "source": []
    }
  ],
  "metadata": {
    "hide_input": false,
    "kernelspec": {
      "display_name": "base",
      "language": "python",
      "name": "python3"
    },
    "language_info": {
      "codemirror_mode": {
        "name": "ipython",
        "version": 3
      },
      "file_extension": ".py",
      "mimetype": "text/x-python",
      "name": "python",
      "nbconvert_exporter": "python",
      "pygments_lexer": "ipython3",
      "version": "3.11.7"
    },
    "toc": {
      "base_numbering": 1,
      "nav_menu": {},
      "number_sections": true,
      "sideBar": true,
      "skip_h1_title": false,
      "title_cell": "Table of Contents",
      "title_sidebar": "Contents",
      "toc_cell": false,
      "toc_position": {},
      "toc_section_display": true,
      "toc_window_display": false
    },
    "colab": {
      "provenance": [],
      "toc_visible": true
    }
  },
  "nbformat": 4,
  "nbformat_minor": 0
}