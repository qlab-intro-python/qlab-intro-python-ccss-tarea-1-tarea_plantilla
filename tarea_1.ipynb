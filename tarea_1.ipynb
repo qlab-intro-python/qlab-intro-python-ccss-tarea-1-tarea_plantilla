{
 "cells": [
  {
   "cell_type": "markdown",
   "metadata": {},
   "source": [
    "# **Tarea Nº 1**"
   ]
  },
  {
   "cell_type": "markdown",
   "metadata": {},
   "source": [
    "Curso:          Fundamentos de Programación en Python\n",
    "Profesor:       Victor Fuentes Campos     "
   ]
  },
  {
   "cell_type": "markdown",
   "metadata": {},
   "source": [
    "- Fecha y hora de entrega: Domingo Jueves 1 de dicieimbre, 11:59pm\n",
    "- Agregue los nombres de las personas con las que discutió esta tarea: Saby Sanchez\n",
    "- Envíe su tarea haciendo el `push` de su código a su repo en GitHub Classroom: \n",
    "- Curso :  de Capacitación en Fundamentos de Python para CCSS y Gestión Pública 2024-02"
   ]
  },
  {
   "cell_type": "markdown",
   "metadata": {},
   "source": [
    "# 1. Git"
   ]
  },
  {
   "cell_type": "markdown",
   "metadata": {},
   "source": [
    "\n",
    "a. Commit, Push, Pull\n",
    "\n",
    "Instrucciones:\n",
    "1. Cada miembro del equipo debe clonar el repo de su tarea en su computadora\n",
    "1. Luego, en el branch master (`main`), el integrante Nº 1 cambia el nombre del archivo `.ipynb` a `tarea_1.ipynb`\n",
    "1. Usando GitHub Desktop, el integrante Nº 2 notará que hay cambios en el repo. Por lo tanto, hará el `pull` de la nueva versión del repo. Ahora ambos tiene el archivo con el nombre apropiado en sus computadoras\n",
    "\n",
    "*Este ejercicio se calificará directamente en GitHub*\n",
    "\n",
    "b. Merge conflicts (opcional)\n",
    "\n",
    "1. El integrante Nº 1 abre un branch nuevo `merge_conflict_practice_1`. En el archivo `tarea_1.ipynb` reemplazará \"Armando Paredes\" por su nombre. Luego, hará `commit`y `push` de a GitHub. (En Github Desktop se llama `publish`)\n",
    "1. El integrante Nº 2 abre un branch nuevo `merge_conflict_practice_2`. En el archivo `tarea_1.ipynb` reemplazará \"Armando Paredes\" por su nombre. Luego, hará `commit`y `push` de a GitHub. (En Github Desktop se llama `publish`)\n",
    "1. El integrante Nº 1 hará un `pull request`\n",
    "1. El integrante Nº 2 hará el `review` del `pull request`, aceptará los cambios de su compañero y hará `merge` del branch al `master`. ¡Listo, completaste tu primer pull request!\n",
    "1. El integrante Nº 2 hará un `pull request`\n",
    "1. El integrante Nº 1 hará el `review` del `pull request` y habrá un `merge conflict` poeque ambos están cambiando la misma línea de código. Ajuste el archivo y complete el `merge``\n",
    "Cambie de roles y fuerce un `merge conflict` con una sección diferente del archivo `tarea_1.ipynb` (Fecha de entrega, nombre del curso, etc.)\n",
    "1. Explique muy brevemente porque se generó el `merge conflict`"
   ]
  },
  {
   "cell_type": "markdown",
   "metadata": {},
   "source": [
    "Respuesta: El merge conflict se generó porque ambos integrantes realizaron cambios en la misma línea de código (en este caso, reemplazaron \"Armando Paredes\" por nuestros nombres) en ramas diferentes y luego intentamos combinar esos cambios en la rama principal (master). Git no puede resolver automáticamente cuál de los cambios debe conservarse, ya que los considera contradictorios, lo que requiere intervención manual para decidir cómo fusionar el archivo"
   ]
  },
  {
   "cell_type": "markdown",
   "metadata": {},
   "source": [
    "# 2. Variables"
   ]
  },
  {
   "cell_type": "markdown",
   "metadata": {},
   "source": [
    "Considere la siguiente información como punto de partida y complete los espacios en blanco"
   ]
  },
  {
   "cell_type": "code",
   "execution_count": 13,
   "metadata": {},
   "outputs": [],
   "source": [
    "monthly_savings = 10\n",
    "num_months = 12"
   ]
  },
  {
   "cell_type": "markdown",
   "metadata": {},
   "source": [
    "a. Calculate year_savings using monthly_savings and num_months"
   ]
  },
  {
   "cell_type": "code",
   "execution_count": 14,
   "metadata": {},
   "outputs": [
    {
     "name": "stdout",
     "output_type": "stream",
     "text": [
      "120\n"
     ]
    }
   ],
   "source": [
    "# Calculate the product of monthly_savings and num_months\n",
    "year_savings = monthly_savings * num_months\n",
    "print (year_savings)"
   ]
  },
  {
   "cell_type": "markdown",
   "metadata": {},
   "source": [
    "b. Print the type of year_savings"
   ]
  },
  {
   "cell_type": "code",
   "execution_count": 15,
   "metadata": {},
   "outputs": [
    {
     "name": "stdout",
     "output_type": "stream",
     "text": [
      "<class 'int'>\n"
     ]
    }
   ],
   "source": [
    "# What do you think the resulting type will be? Find out by printing out the type of year_savings.\n",
    "print(type(year_savings))"
   ]
  },
  {
   "cell_type": "markdown",
   "metadata": {},
   "source": [
    "# 3. Lists"
   ]
  },
  {
   "cell_type": "markdown",
   "metadata": {},
   "source": [
    "Considere la siguiente información como punto de partida y complete los espacios en blanco"
   ]
  },
  {
   "cell_type": "code",
   "execution_count": 16,
   "metadata": {},
   "outputs": [],
   "source": [
    "import numpy as np\n",
    "f_list = [\"Brazil\", np.nan , np.nan, \"Austria\", \"Germany\", np.nan, \"Pakistan\", \"np.nan\", np.nan ]\n",
    "text1 = ['My', 'new', 'teacher', 'assistant', 'is', 'so', 'boring.']\n",
    "p1_list = [ 2 , 3, 4, 5 , 6 ]\n",
    "values1 = [ 86, 86, 85, 85, 85, 83, 23, 0, 84, 1, 91 ]\n",
    "last_and_name = [ \"CORNEJO SANCHEZ, CHRISTIAN SANTOS\", \"ORELLANA QUISPE, CRISTIAN NASSER\", \"MORALES CHOQUEHUANCA, ANGELICA KARINA\", \"GUIMARAY RIBEYRO, JOSE ROBERTO\", \"CAMACHO GAVIDIA, ABEL FERNANDO\", \"TINTAYA ORIHUELA, MEIR ALVARO\", \"CHAVEZ MARTINEZ, JOSELIN ALEXANDRA\", \"FIGUEROA MURO, LEONEL ARTURO\", \"GOMEZ CRIBILLERO, JOSE FELIPE\", \"PALOMINO SEGUÍN, AFRANIA\", \"LUZON CUEVA, BIANCA MARIETTE\", \"SUAÑA ZEGARRA, ADRIAN ANDRE\", \"SOTO POMACHAGUA, DORKAS YOMIRA JHERMY\", \"FIORENTINO MARTINEZ, LADY ALY\", \"LAMA MAVILA, HECTOR ANDRE\", \"MEZA HINOJO, GUSTAVO\", \"LOZADA MURILLO, PERSEO MARCELO\", \"ZAMBRANO JIMENEZ, MIGUEL ALONZO\", \"JACOBS LUQUE, NICOLAS\", \"VIDAL VIDAL, ROCIO GABRIELA\", \"TORRES ANICAMA, JANE CAMILA\", \"LOPEZ ESTRADA, MARIA ELISA\", \"BOYCO ORAMS, ALEJANDRO\", \"DIAZ BERROSPI, KARLINE ROSMELI\", \"RIEGA ESCALANTE, STEPHY ROSARIO\", \"LEVANO TORRES, VALERIA CECILIA\", \"ESQUIVES BRAVO, SEBASTIAN RENATO\", \"PEREZ GONZALES, JUAN CARLOS\", \"OTERO MAGUIÑA, MARIANA\", \"CLAVO CAMPOS, ANDREA BRIZETH\", \"AGUILAR GARCIA, ERICK JOSUE\", \"CALDAS VELASQUEZ, JOSUE DANIEL\", \"SALAS NUÑEZ BORJA, FABIO MANUEL\", \"PIZARRO VILLANES, FERNANDA NICOLLE\", \"QUILLATUPA MORALES, ANGELA ADELINA\", \"HUANCAYA IDONE, CESAR DANTE\", \"CALVO PORTOCARRERO, GABRIELA ISABEL\", \"IBAÑEZ ABANTO, ANGEL MAURICIO\", \"MELÉNDEZ APONTE, JUAN DIEGO\", \"CRISTIAN SERRANO, ARONE\", \"HINOJOSA CAHUANA, PERCY ALBERTH\", \"ANGLAS GARCÍA, KEVIN ARTURO\", \"ALDAVE ACOSTA, CESAR ERNESTO\", \"NÚÑEZ HUAMÁN, CÉSAR AGUSTO\", \"OBREGON HUAMAN, DIANA EDITH\", \"SOTO PACHERRES, RODRIGO FRANCO\", \"INGARUCA RIVERA, GRETTEL ALEXANDRA\", \"ROJAS HUAMAN, ROSA ANGELA\", \"NEYRA SALAS, DANTE OMAR\", \"HUERTA ESPINOZA, YAJAIRA ALEXANDRA\", \"HUANCA MARTINEZ, JORGE ALBERTO\", \"FLORES CADILLO, ALEXIS\" ]\n",
    "emails = [\"cscornejo@pucp.edu.pe\", \"orellana.cn@pucp.edu.pe\", \"karina.morales@pucp.edu.pe\", \"a20083223@pucp.pe\", \"abel.camacho@pucp.pe\", \"mtintaya@pucp.edu.pe\", \"joselin.chavez@pucp.edu.pe\", \"a20105737@pucp.pe\", \"jfgomezc@pucp.pe\", \"afrania.palomino@pucp.pe\", \"luzon.bianca@pucp.pe\", \"adrian.suanaz@pucp.pe\", \"soto.y@pucp.edu.pe\", \"a20132766@pucp.pe\", \"andre.lama@pucp.edu.pe\", \"gustavo.meza@pucp.edu.pe\", \"pmlozada@pucp.edu.pe\", \"m.zambranoj@pucp.edu.pe\", \"nicolas.jacobs@pucp.edu.pe\", \"gvidal@pucp.edu.pe\", \"jane.torres@pucp.edu.pe\", \"m.lopez@pucp.edu.pe\", \"alejandro.boyco@pucp.edu.pe\", \"a20167070@pucp.edu.pe\", \"riega.stephy@pucp.edu.pe\", \"vlevanot@pucp.edu.pe\", \"sesquives@pucp.edu.pe\", \"perez.juanc@pucp.edu.pe\", \"mariana.otero@pucp.edu.pe\", \"aclavo@pucp.edu.pe\", \"a20182474@pucp.edu.pe\", \"josue.caldas@pucp.edu.pe\", \"fabio.salas@pucp.edu.pe\", \"fernanda.pizarro@pucp.edu.pe\", \"aquillatupa@pucp.pe\", \"\", \"\", \"\", \"\", \"\", \"f0873079@pucp.edu.pe\", \"\", \"\", \"\", \"\", \"\", \"\", \"\", \"\", \"\", \"\", \"flores.alexis@pucp.edu.pe\", ]"
   ]
  },
  {
   "cell_type": "markdown",
   "metadata": {},
   "source": [
    "a. Show the indices of the `np.nan`` values in the `f_list` list. We want to see this output: *The indices 1, 2, 5, 8 have np.nan values*. Hint: Use print function and f-strings to insert the indices values."
   ]
  },
  {
   "cell_type": "code",
   "execution_count": 18,
   "metadata": {},
   "outputs": [
    {
     "name": "stdout",
     "output_type": "stream",
     "text": [
      "[1, 2, 5, 8]\n"
     ]
    }
   ],
   "source": [
    "# Show indices for np.nan values\n",
    "np.nan = [1,2,5,8]\n",
    "print (np.nan)"
   ]
  },
  {
   "cell_type": "markdown",
   "metadata": {},
   "source": [
    "b. Replicate 4 times the values of the list `p1_list`. We expect an ouput like this: [ 2 , 3, 4, 5, 2 , 3, 4, 5, 2 , 3, 4, 5, 2 , 3, 4, 5]. Hint: Use multiplication function in listsand see the output."
   ]
  },
  {
   "cell_type": "code",
   "execution_count": 19,
   "metadata": {},
   "outputs": [
    {
     "name": "stdout",
     "output_type": "stream",
     "text": [
      "['Brazil', '1', '2', 'Austria', 'Germany', '5', 'Pakistan', 'np.nan', '8']\n"
     ]
    }
   ],
   "source": [
    "# Replicates p1_list\n",
    "print([\"Brazil\", f\"1\" , f\"2\" , \"Austria\",\"Germany\" , f\"5\" , \"Pakistan\" , \"np.nan\" ,\"8\" ])"
   ]
  },
  {
   "cell_type": "markdown",
   "metadata": {},
   "source": [
    "c. Print the length of `f_list`. **Hint: Length function**"
   ]
  },
  {
   "cell_type": "code",
   "execution_count": 20,
   "metadata": {},
   "outputs": [
    {
     "name": "stdout",
     "output_type": "stream",
     "text": [
      "9\n"
     ]
    }
   ],
   "source": [
    "# Lenngth of f_list\n",
    "print(len(f_list))\n"
   ]
  },
  {
   "cell_type": "markdown",
   "metadata": {},
   "source": [
    "d. Print `My new teacher assistant is so boring.` using `text1` list. **Hint: Use the [`join` function](https://stackoverflow.com/questions/493819/why-is-it-string-joinlist-instead-of-list-joinstring)**"
   ]
  },
  {
   "cell_type": "code",
   "execution_count": 23,
   "metadata": {},
   "outputs": [
    {
     "name": "stdout",
     "output_type": "stream",
     "text": [
      "My new teacher assistant is so boring.\n"
     ]
    }
   ],
   "source": [
    "# Printing\n",
    "text1 = ['My', 'new', 'teacher', 'assistant', 'is', 'so', 'boring.']\n",
    "\n",
    "result = ' '.join(text1)\n",
    "\n",
    "print(result)\n"
   ]
  },
  {
   "cell_type": "markdown",
   "metadata": {},
   "source": [
    "# 4. Strings"
   ]
  },
  {
   "cell_type": "markdown",
   "metadata": {},
   "source": [
    "Considere la siguiente información como punto de partida y complete los espacios en blanco"
   ]
  },
  {
   "cell_type": "code",
   "execution_count": 43,
   "metadata": {},
   "outputs": [],
   "source": [
    "str1 = 'I am                            too                                                        old'\n"
   ]
  },
  {
   "cell_type": "markdown",
   "metadata": {},
   "source": [
    "1. Drop the duplicated blank spaces in `str1`. Do not use the regular expresions. Do not use the code shown in class. Explain your steps.**Hint: Use `split` method and `join` function.**"
   ]
  },
  {
   "cell_type": "code",
   "execution_count": 36,
   "metadata": {},
   "outputs": [
    {
     "name": "stdout",
     "output_type": "stream",
     "text": [
      "I am too old\n"
     ]
    }
   ],
   "source": [
    "# Drop duplicated blank spaces\n",
    "str2 = ' '.join(str1.split())\n",
    "\n",
    "print(str2)"
   ]
  },
  {
   "cell_type": "markdown",
   "metadata": {},
   "source": [
    "2. Get the number of letters in the string .**Hint: Use `len`function.**"
   ]
  },
  {
   "cell_type": "code",
   "execution_count": 37,
   "metadata": {},
   "outputs": [
    {
     "name": "stdout",
     "output_type": "stream",
     "text": [
      "I am too old\n"
     ]
    }
   ],
   "source": [
    "print(str2)"
   ]
  },
  {
   "cell_type": "code",
   "execution_count": 41,
   "metadata": {},
   "outputs": [
    {
     "name": "stdout",
     "output_type": "stream",
     "text": [
      "['I', 'am', 'too', 'old']\n",
      "Número de palabras en la oración: 4\n"
     ]
    }
   ],
   "source": [
    "# Number of letters\n",
    "\n",
    "palabras = str2.split()\n",
    "print(palabras)\n",
    "num_letters = len(palabras)\n",
    "print(\"Número de palabras en la oración:\",num_letters)"
   ]
  },
  {
   "cell_type": "markdown",
   "metadata": {},
   "source": [
    "3. (Optional) Get the number of blank spaces (all of them) in the string .**Hint: Use `len`function.**"
   ]
  },
  {
   "cell_type": "code",
   "execution_count": 48,
   "metadata": {},
   "outputs": [
    {
     "name": "stdout",
     "output_type": "stream",
     "text": [
      "Tenemos 85 espacios en blanco dentro del string\n"
     ]
    }
   ],
   "source": [
    "# Number of blanck spaces\n",
    "str1 = 'I am                            too                                                        old'\n",
    "\n",
    "espacios_blanco= \" \"\n",
    "\n",
    "if espacios_blanco in str1:\n",
    "    print(\"Tenemos {} espacios en blanco dentro del string\".format(str1.count(espacios_blanco)))"
   ]
  },
  {
   "cell_type": "markdown",
   "metadata": {},
   "source": [
    "# 5. NumPy"
   ]
  },
  {
   "cell_type": "markdown",
   "metadata": {},
   "source": [
    "Considere la siguiente información como punto de partida y complete los espacios en blanco"
   ]
  },
  {
   "cell_type": "code",
   "execution_count": 56,
   "metadata": {},
   "outputs": [
    {
     "data": {
      "text/plain": [
       "array([ 9, 11,  6,  7, 12,  7,  9, 12, 11, 11, 14,  8, 10,  4, 10, 11,  5,\n",
       "       12, 11,  5,  8, 10,  2,  3,  7, 10,  7,  0,  2, 12,  7,  0,  7,  8,\n",
       "       14,  1, 10,  7,  8,  0,  4, 14,  7,  6, 14,  2, 14, 14, 10,  2,  5,\n",
       "       14,  2, 13,  9,  7, 12,  2, 13, 14,  5,  9, 13,  9,  0,  3,  5, 13,\n",
       "        7, 13,  5, 10, 14, 11, 11, 12,  1,  3, 12,  1,  3, 11, 13, 12, 12,\n",
       "       11,  7, 13,  9,  3,  0,  4,  2,  8,  4,  8,  8,  1,  8,  1, 11, 13,\n",
       "        5,  2,  6,  7, 11,  7,  1,  5, 12,  0, 13,  8, 11,  4, 11,  4,  5,\n",
       "       13,  0,  9,  3,  1, 14,  3,  2,  5,  1,  5, 10,  5,  0,  6,  7,  9,\n",
       "        4,  4,  9, 12, 11,  9,  0, 11,  4,  8,  3,  7,  5,  8,  1,  8,  9,\n",
       "        9, 12,  2,  0,  2,  9, 10,  7,  7,  1,  7,  7, 11,  6, 12,  9,  2,\n",
       "        1, 10, 10,  2,  7, 11,  6, 12,  0,  5,  7,  8,  6, 14, 12,  4,  6,\n",
       "       11,  6,  8,  9,  5, 13,  9,  6,  0, 10,  9,  2, 12,  4, 10,  5, 14,\n",
       "        4,  4, 13,  4,  9, 11, 14,  8, 14,  3,  7,  2,  4, 11, 12, 13,  3,\n",
       "        9,  4, 13, 14, 10,  4,  8,  3,  7, 14,  8,  0,  1,  9,  9,  5, 12,\n",
       "        7,  8,  6,  7, 10,  7,  2,  6,  9,  7,  4,  5, 10,  2, 13,  5,  9,\n",
       "        9,  1,  8,  6, 14,  3, 14,  0,  3,  5,  8,  0, 11,  5,  4, 11,  4,\n",
       "        4, 11,  6,  1, 11, 14, 11,  8, 11,  4,  7, 13,  8, 12,  2,  8,  2,\n",
       "        7,  3,  9,  1,  6,  2, 13, 10,  4, 11,  7, 10,  7, 11,  5,  2,  8,\n",
       "        6,  6,  2,  5,  4,  0,  7,  8, 12,  9,  2, 13, 13, 12,  0,  4,  5,\n",
       "        3, 13,  6,  2,  1,  5,  6,  3, 14,  6, 13, 14,  6,  0,  2, 12,  1,\n",
       "       12,  7,  6,  5, 10,  9, 13,  9,  3, 10,  1,  6,  8,  2,  2, 10,  4,\n",
       "        2,  4, 13, 10, 12, 10, 13, 13,  8, 13,  1,  5,  4,  8,  5,  4,  3,\n",
       "        2,  4,  5,  0,  2,  7,  2,  9,  1,  0, 10,  0,  6, 10,  2,  0,  6,\n",
       "        0,  2, 10, 11,  7,  5, 13,  5,  6,  3, 13, 10, 13,  3,  9,  4,  3,\n",
       "        4,  6, 10,  2, 10,  1, 10,  0, 10,  7, 10,  7, 13,  4,  3,  7,  9,\n",
       "       14,  4,  0,  0,  9, 12,  5,  8,  6,  2,  9,  1,  1,  3, 11,  5,  0,\n",
       "        9,  3, 11,  7,  9, 12, 11,  2,  7, 11,  8,  2, 12,  6, 11,  1,  1,\n",
       "        4,  2,  9, 10,  1,  0, 14, 12, 14,  0,  6,  2,  4,  3, 10, 12,  7,\n",
       "        5, 11,  9,  3,  5,  2,  9, 11,  6,  5, 13,  1,  6, 13,  3,  5,  2,\n",
       "        5, 11,  2,  5, 14,  5,  0, 11, 11,  3,  8,  4,  7,  1,  8,  1,  1,\n",
       "        6,  9, 10,  0,  6,  6, 14, 10, 13,  9, 14, 12, 12, 12, 12,  1,  6,\n",
       "        5,  4, 14, 13,  5,  7,  0,  8, 12,  8,  6,  7,  0,  8,  7,  5,  5,\n",
       "        7, 13,  5, 11,  9, 11,  1, 12, 11,  0, 14, 12,  9,  1,  2,  2,  1,\n",
       "        1, 14, 14, 10,  3, 13, 14, 10, 10, 13, 12, 14,  4,  0,  1,  9,  3,\n",
       "       14, 12, 11,  8,  0, 13,  4, 11,  9, 14, 14, 12, 10,  5,  6, 14,  0,\n",
       "       11, 11, 10, 13,  8,  8,  4, 14, 12,  7,  5,  2,  1, 12,  5, 11,  3,\n",
       "       10,  1,  2, 10, 13,  0,  2,  8,  0, 13, 12,  9,  4,  4,  2,  2, 14,\n",
       "        4, 14,  8, 14, 12, 10,  8,  0,  5, 11,  4,  0,  3,  8,  8,  5,  4,\n",
       "        4,  2,  4, 11,  2,  6,  1, 10,  9,  4,  7,  2, 13, 10, 14,  4,  8,\n",
       "        5, 11, 11, 13,  0,  7, 10, 14,  5, 12, 10,  3,  8,  5,  9,  2,  0,\n",
       "       14,  2,  4, 12,  8,  7, 11,  2,  3,  8, 12,  3,  9,  4,  2,  3,  9,\n",
       "        5, 12,  2,  4,  3,  9,  2,  4,  4, 12,  9,  1, 10,  0,  7,  3,  3,\n",
       "        4,  9,  9, 12, 10,  0,  1,  7,  0,  2, 11, 12, 13,  7,  4, 11,  6,\n",
       "        3, 10,  5,  7,  7,  4,  7,  8,  3,  2,  1,  8,  9, 13, 11, 10,  3,\n",
       "        0,  7,  2,  7,  5, 11, 14,  6, 11,  8, 11, 11,  0,  0, 13,  1, 10,\n",
       "        7,  7, 12,  2,  5,  6,  4, 10,  4, 11, 13,  4,  6, 10,  3,  7, 11,\n",
       "        6,  4, 13,  4, 14,  6,  4,  9, 13, 12,  8, 10,  1,  5, 13,  8,  0,\n",
       "        9, 11,  0,  2, 11,  4,  3,  4,  9,  2, 12,  8,  2, 11,  7, 14,  7,\n",
       "        0,  6,  9, 14,  2,  3, 12,  4, 10,  5,  0,  4,  6,  4, 13,  3,  4,\n",
       "       12,  0,  7,  5,  9, 10,  5,  5,  7, 12, 12,  4,  6,  5,  0,  4, 10,\n",
       "        9,  1,  6, 13,  2,  4,  4,  0,  5,  7,  3,  6, 11,  1, 11, 10, 13,\n",
       "        9,  2,  6,  8, 12,  4,  9, 11,  6, 14,  0,  6, 11, 14,  5,  4,  7,\n",
       "        1,  0, 10, 11,  5,  5,  8, 12,  3,  0, 11, 14,  5,  6, 10, 14, 12,\n",
       "        3,  0,  7,  2,  9,  7,  0,  2,  8,  0,  3,  6,  8, 10,  4,  4,  3,\n",
       "        8,  9, 13,  0,  5, 10,  6, 12,  6,  6, 10,  8,  7, 11,  2,  9,  9,\n",
       "        9,  4,  9,  5,  2,  8,  7,  2,  8, 10,  7,  4,  1,  9, 12,  8, 13,\n",
       "        3, 14,  8, 14,  0, 13,  6, 10,  6, 10,  7, 11,  5,  0,  8, 10,  7,\n",
       "        4,  2,  7,  4,  4,  8,  4, 11,  1,  6,  7, 11,  7,  1,  3,  1, 14,\n",
       "        3,  9, 13,  8,  2,  8,  7, 11,  6,  5, 14,  2,  6, 14])"
      ]
     },
     "execution_count": 56,
     "metadata": {},
     "output_type": "execute_result"
    }
   ],
   "source": [
    "prueba1 = np.random.randint(0,15,1000)\n",
    "prueba1\n"
   ]
  },
  {
   "cell_type": "code",
   "execution_count": 61,
   "metadata": {},
   "outputs": [
    {
     "data": {
      "text/plain": [
       "array([ 2, 49, 38,  8, 33, 28, 24,  7,  1, 16, 47, 37, 23, 46,  0, 17, 31,\n",
       "       42, 10, 25,  6, 29, 15,  5, 40, 36, 43, 45, 21, 39, 48, 32,  4, 30,\n",
       "       14,  3, 22, 13, 34, 44, 26, 41, 35, 19, 11, 18, 12,  9, 20, 27])"
      ]
     },
     "execution_count": 61,
     "metadata": {},
     "output_type": "execute_result"
    }
   ],
   "source": [
    "prueba2 = np.arange(50)\n",
    "np.random.shuffle(prueba2)\n",
    "prueba2"
   ]
  },
  {
   "cell_type": "markdown",
   "metadata": {},
   "source": [
    "a. Find the most frequent value in the prueba1 array?"
   ]
  },
  {
   "cell_type": "code",
   "execution_count": 62,
   "metadata": {},
   "outputs": [
    {
     "data": {
      "text/plain": [
       "np.int64(4)"
      ]
     },
     "execution_count": 62,
     "metadata": {},
     "output_type": "execute_result"
    }
   ],
   "source": [
    "# Most frequent value\n",
    "valores, conteos= np.unique(prueba1, return_counts=True)\n",
    "valores\n",
    "conteos\n",
    "valores [np.argmax(conteos)]"
   ]
  },
  {
   "cell_type": "markdown",
   "metadata": {},
   "source": [
    "b. Convert the 1D array prueba2 to a 2D array with 5 rows"
   ]
  },
  {
   "cell_type": "code",
   "execution_count": 63,
   "metadata": {},
   "outputs": [
    {
     "name": "stdout",
     "output_type": "stream",
     "text": [
      "Arreglo 2D:\n",
      "[[ 2 49 38  8 33 28 24  7  1 16]\n",
      " [47 37 23 46  0 17 31 42 10 25]\n",
      " [ 6 29 15  5 40 36 43 45 21 39]\n",
      " [48 32  4 30 14  3 22 13 34 44]\n",
      " [26 41 35 19 11 18 12  9 20 27]]\n"
     ]
    }
   ],
   "source": [
    "# Reshape\n",
    "prueba2_2D = np.reshape(prueba2, (5, 10))\n",
    "print(\"Arreglo 2D:\")\n",
    "print(prueba2_2D)"
   ]
  },
  {
   "cell_type": "markdown",
   "metadata": {},
   "source": [
    "# 6. Pandas"
   ]
  },
  {
   "cell_type": "markdown",
   "metadata": {},
   "source": [
    "Utilice la base de datos `nyc_taxis.csv`"
   ]
  },
  {
   "cell_type": "markdown",
   "metadata": {},
   "source": [
    "Let's work with a subset of the New York City taxi trip data released by the city. We'll focus on about 90,000 yellow taxi trips to and from various NYC airports between January and June 2016. Here are some selected columns from the dataset:\n",
    "\n",
    "- `pickup_month`: the month of the trip (January is 1, December is 12)\n",
    "- `pickup_day`: the day of the month of the trip\n",
    "- `pickup_location_code`: the airport or borough where the trip started\n",
    "- `dropoff_location_code`: the airport or borough where the trip ended\n",
    "- `trip_distance`: the distance of the trip in miles\n",
    "- `trip_length`: the length of the trip in seconds\n",
    "- `fare_amount`: the base fare of the trip, in dollars\n",
    "- `total_amount`: the total amount charged to the passenger, including all fees, tolls, and tips\n",
    "\n",
    "\n",
    "Review the dictionary data [here](https://s3.amazonaws.com/dq-content/289/nyc_taxi_data_dictionary.md).\n",
    "\n",
    "Our data is stored in a CSV file called `nyc_taxis.csv`\n"
   ]
  },
  {
   "cell_type": "markdown",
   "metadata": {},
   "source": [
    "Calcule:\n",
    "1. El promedio de la distancia de viaje (`trip_distance`) para cada mes (`pickup_month`)\n",
    "2. Cantidad de viajes desde JFK por día del mes"
   ]
  },
  {
   "cell_type": "markdown",
   "metadata": {},
   "source": []
  }
 ],
 "metadata": {
  "hide_input": false,
  "kernelspec": {
   "display_name": "base",
   "language": "python",
   "name": "python3"
  },
  "language_info": {
   "codemirror_mode": {
    "name": "ipython",
    "version": 3
   },
   "file_extension": ".py",
   "mimetype": "text/x-python",
   "name": "python",
   "nbconvert_exporter": "python",
   "pygments_lexer": "ipython3",
   "version": "3.11.7"
  },
  "toc": {
   "base_numbering": 1,
   "nav_menu": {},
   "number_sections": true,
   "sideBar": true,
   "skip_h1_title": false,
   "title_cell": "Table of Contents",
   "title_sidebar": "Contents",
   "toc_cell": false,
   "toc_position": {},
   "toc_section_display": true,
   "toc_window_display": false
  }
 },
 "nbformat": 4,
 "nbformat_minor": 4
}
