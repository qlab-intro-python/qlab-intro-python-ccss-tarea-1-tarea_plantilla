{
 "cells": [
  {
   "cell_type": "markdown",
   "metadata": {},
   "source": [
    "# **Tarea Nº 1**"
   ]
  },
  {
   "cell_type": "markdown",
   "metadata": {},
   "source": [
    "Curso:          Fundamentos de Programación en Python\n",
    "Profesor:       Victor Fuentes Campos     "
   ]
  },
  {
   "cell_type": "markdown",
   "metadata": {},
   "source": [
    "- Fecha y hora de entrega: Domingo Jueves 1 de dicieimbre, 11:59pm\n",
    "- Agregue los nombres de las personas con las que discutió esta tarea: Margarita Mamani Condori_\n",
    "- linea creada para generar conflicto\n",
    "- Envíe su tarea haciendo el `push` de su código a su repo en GitHub Classroom: "
   ]
  },
  {
   "cell_type": "markdown",
   "metadata": {},
   "source": [
    "# 1. Git"
   ]
  },
  {
   "cell_type": "markdown",
   "metadata": {},
   "source": [
    "\n",
    "a. Commit, Push, Pull\n",
    "\n",
    "Instrucciones:\n",
    "1. Cada miembro del equipo debe clonar el repo de su tarea en su computadora\n",
    "1. Luego, en el branch master (`main`), el integrante Nº 1 cambia el nombre del archivo `.ipynb` a `tarea_1.ipynb`\n",
    "1. Usando GitHub Desktop, el integrante Nº 2 notará que hay cambios en el repo. Por lo tanto, hará el `pull` de la nueva versión del repo. Ahora ambos tiene el archivo con el nombre apropiado en sus computadoras\n",
    "\n",
    "*Este ejercicio se calificará directamente en GitHub*\n",
    "\n",
    "b. Merge conflicts (opcional)\n",
    "\n",
    "1. El integrante Nº 1 abre un branch nuevo `merge_conflict_practice_1`. En el archivo `tarea_1.ipynb` reemplazará \"Armando Paredes\" por su nombre. Luego, hará `commit`y `push` de a GitHub. (En Github Desktop se llama `publish`)\n",
    "1. El integrante Nº 2 abre un branch nuevo `merge_conflict_practice_2`. En el archivo `tarea_1.ipynb` reemplazará \"Armando Paredes\" por su nombre. Luego, hará `commit`y `push` de a GitHub. (En Github Desktop se llama `publish`)\n",
    "1. El integrante Nº 1 hará un `pull request`\n",
    "1. El integrante Nº 2 hará el `review` del `pull request`, aceptará los cambios de su compañero y hará `merge` del branch al `master`. ¡Listo, completaste tu primer pull request!\n",
    "1. El integrante Nº 2 hará un `pull request`\n",
    "1. El integrante Nº 1 hará el `review` del `pull request` y habrá un `merge conflict` poeque ambos están cambiando la misma línea de código. Ajuste el archivo y complete el `merge``\n",
    "Cambie de roles y fuerce un `merge conflict` con una sección diferente del archivo `tarea_1.ipynb` (Fecha de entrega, nombre del curso, etc.)\n",
    "1. Explique muy brevemente porque se generó el `merge conflict`"
   ]
  },
  {
   "cell_type": "markdown",
   "metadata": {},
   "source": [
    "*Respuesta: El conflicto se realizo por que ambas hicimos el cambio en la misma linea. En mi caso coloque mi nombre y mi compañera coloco su nombre, pero ambas en linea. "
   ]
  },
  {
   "cell_type": "markdown",
   "metadata": {},
   "source": [
    "# 2. Variables"
   ]
  },
  {
   "cell_type": "markdown",
   "metadata": {},
   "source": [
    "Considere la siguiente información como punto de partida y complete los espacios en blanco"
   ]
  },
  {
   "cell_type": "code",
   "execution_count": 1,
   "metadata": {},
   "outputs": [],
   "source": [
    "monthly_savings = 10\n",
    "num_months = 12"
   ]
  },
  {
   "cell_type": "markdown",
   "metadata": {},
   "source": [
    "a. Calculate year_savings using monthly_savings and num_months\n"
   ]
  },
  {
   "cell_type": "code",
   "execution_count": 2,
   "metadata": {},
   "outputs": [],
   "source": [
    "# Calculate the product of monthly_savings and num_months\n",
    "producto=monthly_savings*12"
   ]
  },
  {
   "cell_type": "markdown",
   "metadata": {},
   "source": [
    "b. Print the type of year_savings"
   ]
  },
  {
   "cell_type": "code",
   "execution_count": 3,
   "metadata": {},
   "outputs": [
    {
     "name": "stdout",
     "output_type": "stream",
     "text": [
      "120\n"
     ]
    }
   ],
   "source": [
    "# What do you think the resulting type will be? Find out by printing out the type of year_savings.\n",
    "print(producto)"
   ]
  },
  {
   "cell_type": "markdown",
   "metadata": {},
   "source": [
    "# 3. Lists"
   ]
  },
  {
   "cell_type": "markdown",
   "metadata": {},
   "source": [
    "Considere la siguiente información como punto de partida y complete los espacios en blanco"
   ]
  },
  {
   "cell_type": "code",
   "execution_count": 8,
   "metadata": {},
   "outputs": [],
   "source": [
    "import numpy as np\n",
    "f_list = [\"Brazil\", np.nan , np.nan, \"Austria\", \"Germany\", np.nan, \"Pakistan\", \"np.nan\", np.nan ]\n",
    "text1 = ['My', 'new', 'teacher', 'assistant', 'is', 'so', 'boring.']\n",
    "p1_list = [ 2 , 3, 4, 5 , 6 ]\n",
    "values1 = [ 86, 86, 85, 85, 85, 83, 23, 0, 84, 1, 91 ]\n",
    "last_and_name = [ \"CORNEJO SANCHEZ, CHRISTIAN SANTOS\", \"ORELLANA QUISPE, CRISTIAN NASSER\", \"MORALES CHOQUEHUANCA, ANGELICA KARINA\", \"GUIMARAY RIBEYRO, JOSE ROBERTO\", \"CAMACHO GAVIDIA, ABEL FERNANDO\", \"TINTAYA ORIHUELA, MEIR ALVARO\", \"CHAVEZ MARTINEZ, JOSELIN ALEXANDRA\", \"FIGUEROA MURO, LEONEL ARTURO\", \"GOMEZ CRIBILLERO, JOSE FELIPE\", \"PALOMINO SEGUÍN, AFRANIA\", \"LUZON CUEVA, BIANCA MARIETTE\", \"SUAÑA ZEGARRA, ADRIAN ANDRE\", \"SOTO POMACHAGUA, DORKAS YOMIRA JHERMY\", \"FIORENTINO MARTINEZ, LADY ALY\", \"LAMA MAVILA, HECTOR ANDRE\", \"MEZA HINOJO, GUSTAVO\", \"LOZADA MURILLO, PERSEO MARCELO\", \"ZAMBRANO JIMENEZ, MIGUEL ALONZO\", \"JACOBS LUQUE, NICOLAS\", \"VIDAL VIDAL, ROCIO GABRIELA\", \"TORRES ANICAMA, JANE CAMILA\", \"LOPEZ ESTRADA, MARIA ELISA\", \"BOYCO ORAMS, ALEJANDRO\", \"DIAZ BERROSPI, KARLINE ROSMELI\", \"RIEGA ESCALANTE, STEPHY ROSARIO\", \"LEVANO TORRES, VALERIA CECILIA\", \"ESQUIVES BRAVO, SEBASTIAN RENATO\", \"PEREZ GONZALES, JUAN CARLOS\", \"OTERO MAGUIÑA, MARIANA\", \"CLAVO CAMPOS, ANDREA BRIZETH\", \"AGUILAR GARCIA, ERICK JOSUE\", \"CALDAS VELASQUEZ, JOSUE DANIEL\", \"SALAS NUÑEZ BORJA, FABIO MANUEL\", \"PIZARRO VILLANES, FERNANDA NICOLLE\", \"QUILLATUPA MORALES, ANGELA ADELINA\", \"HUANCAYA IDONE, CESAR DANTE\", \"CALVO PORTOCARRERO, GABRIELA ISABEL\", \"IBAÑEZ ABANTO, ANGEL MAURICIO\", \"MELÉNDEZ APONTE, JUAN DIEGO\", \"CRISTIAN SERRANO, ARONE\", \"HINOJOSA CAHUANA, PERCY ALBERTH\", \"ANGLAS GARCÍA, KEVIN ARTURO\", \"ALDAVE ACOSTA, CESAR ERNESTO\", \"NÚÑEZ HUAMÁN, CÉSAR AGUSTO\", \"OBREGON HUAMAN, DIANA EDITH\", \"SOTO PACHERRES, RODRIGO FRANCO\", \"INGARUCA RIVERA, GRETTEL ALEXANDRA\", \"ROJAS HUAMAN, ROSA ANGELA\", \"NEYRA SALAS, DANTE OMAR\", \"HUERTA ESPINOZA, YAJAIRA ALEXANDRA\", \"HUANCA MARTINEZ, JORGE ALBERTO\", \"FLORES CADILLO, ALEXIS\" ]\n",
    "emails = [\"cscornejo@pucp.edu.pe\", \"orellana.cn@pucp.edu.pe\", \"karina.morales@pucp.edu.pe\", \"a20083223@pucp.pe\", \"abel.camacho@pucp.pe\", \"mtintaya@pucp.edu.pe\", \"joselin.chavez@pucp.edu.pe\", \"a20105737@pucp.pe\", \"jfgomezc@pucp.pe\", \"afrania.palomino@pucp.pe\", \"luzon.bianca@pucp.pe\", \"adrian.suanaz@pucp.pe\", \"soto.y@pucp.edu.pe\", \"a20132766@pucp.pe\", \"andre.lama@pucp.edu.pe\", \"gustavo.meza@pucp.edu.pe\", \"pmlozada@pucp.edu.pe\", \"m.zambranoj@pucp.edu.pe\", \"nicolas.jacobs@pucp.edu.pe\", \"gvidal@pucp.edu.pe\", \"jane.torres@pucp.edu.pe\", \"m.lopez@pucp.edu.pe\", \"alejandro.boyco@pucp.edu.pe\", \"a20167070@pucp.edu.pe\", \"riega.stephy@pucp.edu.pe\", \"vlevanot@pucp.edu.pe\", \"sesquives@pucp.edu.pe\", \"perez.juanc@pucp.edu.pe\", \"mariana.otero@pucp.edu.pe\", \"aclavo@pucp.edu.pe\", \"a20182474@pucp.edu.pe\", \"josue.caldas@pucp.edu.pe\", \"fabio.salas@pucp.edu.pe\", \"fernanda.pizarro@pucp.edu.pe\", \"aquillatupa@pucp.pe\", \"\", \"\", \"\", \"\", \"\", \"f0873079@pucp.edu.pe\", \"\", \"\", \"\", \"\", \"\", \"\", \"\", \"\", \"\", \"\", \"flores.alexis@pucp.edu.pe\", ]"
   ]
  },
  {
   "cell_type": "markdown",
   "metadata": {},
   "source": [
    "a. Show the indices of the `np.nan`` values in the `f_list` list. We want to see this output: *The indices 1, 2, 5, 8 have np.nan values*. Hint: Use print function and f-strings to insert the indices values."
   ]
  },
  {
   "cell_type": "code",
   "execution_count": 30,
   "metadata": {},
   "outputs": [
    {
     "name": "stdout",
     "output_type": "stream",
     "text": [
      "[1, 2, 5, 8]\n"
     ]
    }
   ],
   "source": [
    "# Show indices for np.nan values\n",
    "np.nan=[1,2,5,8]\n",
    "print(np.nan)"
   ]
  },
  {
   "cell_type": "code",
   "execution_count": 32,
   "metadata": {},
   "outputs": [
    {
     "name": "stdout",
     "output_type": "stream",
     "text": [
      "['Brazil', '1', '2', 'Austria', 'Germany', '5', 'Pakistan', 'np.nan', '8']\n"
     ]
    }
   ],
   "source": [
    "print([\"Brazil\", f\"1\" , f\"2\", \"Austria\", \"Germany\", f\"5\", \"Pakistan\", \"np.nan\", f\"8\" ])"
   ]
  },
  {
   "cell_type": "markdown",
   "metadata": {},
   "source": [
    "b. Replicate 4 times the values of the list `p1_list`. We expect an ouput like this: [ 2 , 3, 4, 5, 2 , 3, 4, 5, 2 , 3, 4, 5, 2 , 3, 4, 5]. Hint: Use multiplication function in listsand see the output."
   ]
  },
  {
   "cell_type": "code",
   "execution_count": 25,
   "metadata": {},
   "outputs": [
    {
     "name": "stdout",
     "output_type": "stream",
     "text": [
      "[2, 3, 4, 5, 6, 2, 3, 4, 5, 6, 2, 3, 4, 5, 6, 2, 3, 4, 5, 6]\n"
     ]
    }
   ],
   "source": [
    "# Replicates p1_list\n",
    "newp1_list=p1_list*4\n",
    "print(newp1_list)\n"
   ]
  },
  {
   "cell_type": "markdown",
   "metadata": {},
   "source": [
    "c. Print the length of `f_list`. **Hint: Length function**"
   ]
  },
  {
   "cell_type": "code",
   "execution_count": 16,
   "metadata": {},
   "outputs": [
    {
     "name": "stdout",
     "output_type": "stream",
     "text": [
      "9\n"
     ]
    }
   ],
   "source": [
    "# Lenngth of f_list\n",
    "longitud=len(f_list)\n",
    "print(longitud)"
   ]
  },
  {
   "cell_type": "markdown",
   "metadata": {},
   "source": [
    "d. Print `My new teacher assistant is so boring.` using `text1` list. **Hint: Use the [`join` function](https://stackoverflow.com/questions/493819/why-is-it-string-joinlist-instead-of-list-joinstring)**\n"
   ]
  },
  {
   "cell_type": "code",
   "execution_count": 18,
   "metadata": {},
   "outputs": [
    {
     "data": {
      "text/plain": [
       "'My new teacher assistant is so boring.'"
      ]
     },
     "execution_count": 18,
     "metadata": {},
     "output_type": "execute_result"
    }
   ],
   "source": [
    "' '.join(text1)"
   ]
  },
  {
   "cell_type": "markdown",
   "metadata": {},
   "source": [
    "# 4. Strings"
   ]
  },
  {
   "cell_type": "markdown",
   "metadata": {},
   "source": [
    "Considere la siguiente información como punto de partida y complete los espacios en blanco"
   ]
  },
  {
   "cell_type": "code",
   "execution_count": null,
   "metadata": {},
   "outputs": [],
   "source": [
    "str1 = 'I am                            too                                                        old'\n",
    "emails = [\"cscornejo@pucp.edu.pe\", \"orellana.cn@pucp.edu.pe\", \"karina.morales@pucp.edu.pe\", \"a20083223@pucp.pe\", \"abel.camacho@pucp.pe\", \"mtintaya@pucp.edu.pe\", \"joselin.chavez@pucp.edu.pe\", \"a20105737@pucp.pe\", \"jfgomezc@pucp.pe\", \"afrania.palomino@pucp.pe\", \"luzon.bianca@pucp.pe\", \"adrian.suanaz@pucp.pe\", \"soto.y@pucp.edu.pe\", \"a20132766@pucp.pe\", \"andre.lama@pucp.edu.pe\", \"gustavo.meza@pucp.edu.pe\", \"pmlozada@pucp.edu.pe\", \"m.zambranoj@pucp.edu.pe\", \"nicolas.jacobs@pucp.edu.pe\", \"gvidal@pucp.edu.pe\", \"jane.torres@pucp.edu.pe\", \"m.lopez@pucp.edu.pe\", \"alejandro.boyco@pucp.edu.pe\", \"a20167070@pucp.edu.pe\", \"riega.stephy@pucp.edu.pe\", \"vlevanot@pucp.edu.pe\", \"sesquives@pucp.edu.pe\", \"perez.juanc@pucp.edu.pe\", \"mariana.otero@pucp.edu.pe\", \"aclavo@pucp.edu.pe\", \"a20182474@pucp.edu.pe\", \"josue.caldas@pucp.edu.pe\", \"fabio.salas@pucp.edu.pe\", \"fernanda.pizarro@pucp.edu.pe\", \"aquillatupa@pucp.pe\"]"
   ]
  },
  {
   "cell_type": "markdown",
   "metadata": {},
   "source": [
    "1. Drop the duplicated blank spaces in `str1`. Do not use the regular expresions. Do not use the code shown in class. Explain your steps.**Hint: Use `split` method and `join` function.**"
   ]
  },
  {
   "cell_type": "code",
   "execution_count": 75,
   "metadata": {},
   "outputs": [
    {
     "name": "stdout",
     "output_type": "stream",
     "text": [
      "I am too old\n"
     ]
    }
   ],
   "source": [
    "# Drop duplicated blank spaces\n",
    "str1 = 'I am                            too                                                        old'\n",
    "str2 = \" \".join(str1.split())\n",
    "print(str2)"
   ]
  },
  {
   "cell_type": "markdown",
   "metadata": {},
   "source": [
    "2. Get the number of letters in the string .**Hint: Use `len`function.**"
   ]
  },
  {
   "cell_type": "code",
   "execution_count": 83,
   "metadata": {},
   "outputs": [
    {
     "name": "stdout",
     "output_type": "stream",
     "text": [
      "['I', 'am', 'too', 'old']\n",
      "Número de palabras en la oración: 4\n"
     ]
    }
   ],
   "source": [
    "# Number of letters\n",
    "palabras=str2.split()\n",
    "print(palabras)\n",
    "numero_de_palabras=len(palabras)\n",
    "print(\"Número de palabras en la oración:\", numero_de_palabras)"
   ]
  },
  {
   "cell_type": "code",
   "execution_count": null,
   "metadata": {},
   "outputs": [],
   "source": []
  },
  {
   "cell_type": "markdown",
   "metadata": {},
   "source": [
    "3. (Optional) Get the number of blank spaces (all of them) in the string .**Hint: Use `len`function.**"
   ]
  },
  {
   "cell_type": "code",
   "execution_count": 100,
   "metadata": {},
   "outputs": [
    {
     "name": "stdout",
     "output_type": "stream",
     "text": [
      "Tenemos 85 espacios en blanco dentro del string\n"
     ]
    }
   ],
   "source": [
    "# Number of blanck spaces\n",
    "str1 = 'I am                            too                                                        old'\n",
    "espacios_blanco= \" \"\n",
    "if espacios_blanco in str1:\n",
    "    print(\"Tenemos {} espacios en blanco dentro del string\".format(str1.count(espacios_blanco)))"
   ]
  },
  {
   "cell_type": "markdown",
   "metadata": {},
   "source": [
    "# 5. NumPy"
   ]
  },
  {
   "cell_type": "markdown",
   "metadata": {},
   "source": [
    "Considere la siguiente información como punto de partida y complete los espacios en blanco"
   ]
  },
  {
   "cell_type": "code",
   "execution_count": 103,
   "metadata": {},
   "outputs": [
    {
     "data": {
      "text/plain": [
       "array([ 8,  4,  6,  7,  3,  3, 14, 13, 12, 13, 14, 13, 10,  6, 14,  7,  5,\n",
       "        5,  6,  6,  3,  6,  3,  9,  7,  4,  6,  2, 10, 11,  9,  2,  6,  4,\n",
       "        3,  4, 12,  0, 10, 11, 11,  6, 10,  1, 10,  5,  7,  9,  2,  7,  6,\n",
       "       14, 14,  7, 12, 14,  4,  8,  5,  9, 14,  9, 12, 10,  6,  1, 10, 14,\n",
       "        9, 12,  4,  6,  4, 13,  5,  4, 14,  5,  5,  4,  0,  9,  8,  2,  5,\n",
       "        9,  2,  4, 13,  4, 10, 12,  7,  0,  5,  5,  5, 10, 11,  7, 11,  4,\n",
       "        3, 10, 14,  7,  3,  3, 10, 13,  8,  3,  9, 14,  0, 10,  5, 10,  8,\n",
       "        6,  6,  0,  5,  5,  3,  0,  1, 13, 11,  3,  8,  5, 12, 11,  4,  3,\n",
       "       14,  4,  0,  0,  4,  9, 12, 13, 13,  1, 14,  0,  9, 10,  2,  2, 12,\n",
       "        0,  9, 13,  8,  5,  3,  1, 12,  7,  0, 12,  3,  9, 10,  6, 13,  4,\n",
       "        5,  5,  5, 13,  3, 14,  2,  0,  2, 11, 10,  3,  5,  0,  3, 14,  0,\n",
       "        1, 10, 14, 10, 12,  8, 11, 10,  2,  4,  0,  7,  9, 10,  0,  0, 14,\n",
       "       14,  2, 14, 13,  6, 13,  3, 12, 13,  7,  7,  3, 10,  4,  3,  8,  2,\n",
       "        8, 13,  0,  2, 14,  3,  4, 11, 12, 11, 14, 12,  3,  2,  4,  6,  9,\n",
       "        4, 14, 11,  5, 10,  8,  1,  9,  2,  1,  2,  3, 10,  6, 10,  6,  3,\n",
       "        7,  5,  0,  3,  7,  3, 12,  6,  8,  1, 10, 14, 11,  8,  4,  6, 11,\n",
       "        2,  6, 11,  2, 12, 14, 10,  6,  9, 10, 11,  0,  1, 14, 13,  5, 10,\n",
       "       13,  3,  3,  4,  4, 14,  7,  7, 10,  7,  2, 10,  7,  2,  7,  7,  2,\n",
       "       14,  2,  2,  2,  2,  8, 12,  5,  0, 10, 10,  6, 11, 14,  4, 11,  7,\n",
       "        7, 14, 13,  5, 14,  2,  2,  1,  4, 13,  0,  6, 11, 11, 14,  3, 11,\n",
       "        3,  8, 14, 12,  8,  3,  2,  8, 10,  7,  5, 14,  3, 14, 12,  0,  2,\n",
       "        9, 10,  6,  9, 10, 12,  5,  7,  0,  0,  2,  9,  8, 13,  4, 10,  3,\n",
       "        1, 13, 10, 12, 12,  5, 12, 11,  2,  7,  7,  9,  7,  5,  8,  8,  7,\n",
       "        1,  6,  9,  2,  5,  8, 14, 13,  1,  5,  6,  3,  1,  1,  5,  2, 14,\n",
       "       14,  6,  4,  2,  1,  7, 14,  2,  8, 13, 13,  8,  8, 11,  6,  2,  7,\n",
       "        6, 14,  5,  8,  1, 10, 12, 10,  3, 10, 11, 11,  0, 12, 12,  2,  2,\n",
       "       11,  4,  9, 11, 10,  2,  2, 10,  9, 11,  9,  9,  7,  2,  9,  3, 11,\n",
       "        0,  8,  3, 12, 12,  0,  6,  8,  7,  2,  3, 10,  4,  3, 13, 10,  0,\n",
       "       14,  1,  8,  9, 12,  7,  0,  0, 13,  7, 10,  9,  1,  5,  4, 12,  3,\n",
       "        1,  7,  0, 13, 13,  4, 13, 12,  6,  2,  8,  0,  8, 11,  1,  9,  2,\n",
       "        5, 10,  3,  9,  4,  6,  9,  6, 11,  6, 13,  5,  6,  1, 11,  9, 13,\n",
       "        4, 13,  9,  3,  3,  9,  4, 10,  2, 10, 13,  7,  8,  9,  9, 12, 14,\n",
       "       11,  0,  9,  6,  6,  7,  3,  5, 14,  3,  0,  9, 13,  6,  8, 14,  2,\n",
       "       11,  3, 13,  5,  4,  4,  1, 12,  3,  1, 13, 14,  5, 11,  7,  4,  0,\n",
       "        4,  2,  0,  6,  5, 13,  3, 12,  5, 14,  0,  4,  9,  5, 12,  7,  7,\n",
       "        8,  5,  8, 10, 14,  6,  7,  7, 11,  0,  3, 13,  3,  1, 14, 14, 14,\n",
       "        6,  4,  3,  1,  9,  1,  5, 12,  8,  6, 10, 12,  8, 10, 13, 12,  8,\n",
       "       10,  9,  3,  7,  9,  0,  1,  7,  7,  7,  8,  8,  9, 12, 13,  8,  9,\n",
       "        8,  7,  7,  4,  2,  9,  3,  7,  8, 10,  5, 13,  3, 11,  0,  1,  0,\n",
       "       11, 11,  5,  9,  9,  9,  6, 14,  4, 10,  3, 11,  8,  4, 12,  8, 10,\n",
       "        5,  6, 11, 11, 11, 14,  8, 14,  7, 14,  0, 12,  8,  1,  9, 12,  6,\n",
       "        2,  2,  0,  6,  5,  5,  8,  8,  8,  5, 11,  8,  1,  0,  0,  3, 11,\n",
       "        0,  3,  9, 14,  6,  7, 10,  0, 14, 14,  0,  0,  2,  3,  3,  3, 12,\n",
       "        8,  8,  8,  4,  7,  8,  3, 14, 14,  1,  8,  4,  5, 11,  6,  1,  1,\n",
       "        2, 10,  9, 10, 14, 12, 11,  4,  8,  3, 14,  1,  3,  8,  2,  8,  5,\n",
       "       13,  7,  8, 10, 14,  5,  2,  6,  3, 13,  8, 11,  1, 14,  8,  8,  3,\n",
       "       10,  1,  0, 10, 13, 14,  6, 13,  5,  4, 13, 10,  4,  1,  8, 13,  9,\n",
       "        6,  9,  1, 14,  9, 12,  4,  3,  1,  1, 14,  9, 13, 12, 10, 10, 10,\n",
       "       11,  8,  3, 14,  8, 14,  2,  6, 12, 10, 13, 12,  5,  1,  1, 13,  5,\n",
       "        5, 10,  3, 11,  3,  7,  3, 11,  3, 13,  4,  6,  3, 12,  4,  6,  3,\n",
       "        1, 10,  1,  9, 11,  4,  8, 10, 13,  3,  0,  7, 12,  2,  9,  3, 10,\n",
       "       10,  3,  7,  4, 12,  2, 14, 10,  0,  6,  1,  1,  4, 14, 14, 11,  1,\n",
       "       12,  0,  7,  5,  6,  6, 14,  1,  9, 13, 14,  7,  7,  5, 12,  9,  6,\n",
       "       11,  2,  4,  7,  2,  4,  3, 13, 13,  5, 11,  4,  9, 11, 10,  6,  2,\n",
       "       12,  5,  8,  8,  6,  8, 10, 12,  1,  6, 13, 13,  9, 10, 12,  6,  7,\n",
       "       14,  9, 11, 14, 10,  9,  9,  8,  5,  0,  9,  6,  4,  5,  8, 14, 12,\n",
       "        2, 12,  0,  1,  7,  8,  4,  1,  4,  3,  6,  7, 11,  6, 12,  7,  2,\n",
       "       10,  3,  6,  9,  5,  6,  0,  8,  0,  4,  2,  1, 14, 12,  3, 12,  6,\n",
       "       11,  0,  4,  5, 12, 12,  0,  8, 12,  8, 14, 11, 11,  4],\n",
       "      dtype=int32)"
      ]
     },
     "execution_count": 103,
     "metadata": {},
     "output_type": "execute_result"
    }
   ],
   "source": [
    "prueba1 = np.random.randint(0,15,1000)\n",
    "prueba1\n"
   ]
  },
  {
   "cell_type": "code",
   "execution_count": 118,
   "metadata": {},
   "outputs": [
    {
     "data": {
      "text/plain": [
       "array([41, 17,  5, 19,  4, 18, 29,  9, 46, 37, 10, 24, 31, 25, 48,  0, 44,\n",
       "       21,  3, 43, 34, 36,  6, 45, 20, 38, 14, 26, 15, 32, 12, 28, 27, 49,\n",
       "       11, 35, 23, 40, 22, 30,  2, 13, 39,  8, 16, 47, 33, 42,  1,  7])"
      ]
     },
     "execution_count": 118,
     "metadata": {},
     "output_type": "execute_result"
    }
   ],
   "source": [
    "prueba2 = np.arange(50)\n",
    "np.random.shuffle(prueba2)\n",
    "prueba2"
   ]
  },
  {
   "cell_type": "markdown",
   "metadata": {},
   "source": [
    "a. Find the most frequent value in the prueba1 array?"
   ]
  },
  {
   "cell_type": "code",
   "execution_count": 127,
   "metadata": {},
   "outputs": [
    {
     "data": {
      "text/plain": [
       "np.int32(3)"
      ]
     },
     "execution_count": 127,
     "metadata": {},
     "output_type": "execute_result"
    }
   ],
   "source": [
    "# Most frequent value\n",
    "valores, conteos= np.unique(prueba1, return_counts=True)\n",
    "valores\n",
    "conteos\n",
    "valores[np.argmax(conteos)]"
   ]
  },
  {
   "cell_type": "markdown",
   "metadata": {},
   "source": [
    "b. Convert the 1D array prueba2 to a 2D array with 5 rows"
   ]
  },
  {
   "cell_type": "code",
   "execution_count": 125,
   "metadata": {},
   "outputs": [
    {
     "name": "stdout",
     "output_type": "stream",
     "text": [
      "Despues del reshape se tiene una dimensión 5x1\n",
      "[[42 33 45 39 46 47 19 31  2 49]\n",
      " [11 10 21 20 14  8 29  6 43 26]\n",
      " [15 30  4  7 37 13 34 25 23 32]\n",
      " [35 24  3 40 16 38 22 48 18  0]\n",
      " [28 27  5 17 36  1  9 12 41 44]]\n",
      "\n",
      "\n"
     ]
    }
   ],
   "source": [
    "# Reshape\n",
    "arr1=prueba2.reshape(5, 10)\n",
    "print('Despues del reshape se tiene una dimensión 5x1')\n",
    "print(arr1)\n",
    "print('\\n')"
   ]
  },
  {
   "cell_type": "code",
   "execution_count": 128,
   "metadata": {},
   "outputs": [
    {
     "name": "stdout",
     "output_type": "stream",
     "text": [
      "Arreglo 2D:\n",
      "[[42 33 45 39 46 47 19 31  2 49]\n",
      " [11 10 21 20 14  8 29  6 43 26]\n",
      " [15 30  4  7 37 13 34 25 23 32]\n",
      " [35 24  3 40 16 38 22 48 18  0]\n",
      " [28 27  5 17 36  1  9 12 41 44]]\n"
     ]
    }
   ],
   "source": [
    "prueba2_2D = np.reshape(prueba2, (5, 10))\n",
    "print(\"Arreglo 2D:\")\n",
    "print(prueba2_2D)"
   ]
  },
  {
   "cell_type": "markdown",
   "metadata": {},
   "source": [
    "# 6. Pandas"
   ]
  },
  {
   "cell_type": "markdown",
   "metadata": {},
   "source": [
    "Utilice la base de datos `nyc_taxis.csv`"
   ]
  },
  {
   "cell_type": "markdown",
   "metadata": {},
   "source": [
    "Let's work with a subset of the New York City taxi trip data released by the city. We'll focus on about 90,000 yellow taxi trips to and from various NYC airports between January and June 2016. Here are some selected columns from the dataset:\n",
    "\n",
    "- `pickup_month`: the month of the trip (January is 1, December is 12)\n",
    "- `pickup_day`: the day of the month of the trip\n",
    "- `pickup_location_code`: the airport or borough where the trip started\n",
    "- `dropoff_location_code`: the airport or borough where the trip ended\n",
    "- `trip_distance`: the distance of the trip in miles\n",
    "- `trip_length`: the length of the trip in seconds\n",
    "- `fare_amount`: the base fare of the trip, in dollars\n",
    "- `total_amount`: the total amount charged to the passenger, including all fees, tolls, and tips\n",
    "\n",
    "\n",
    "Review the dictionary data [here](https://s3.amazonaws.com/dq-content/289/nyc_taxi_data_dictionary.md).\n",
    "\n",
    "Our data is stored in a CSV file called `nyc_taxis.csv`\n"
   ]
  },
  {
   "cell_type": "markdown",
   "metadata": {},
   "source": [
    "Calcule:\n",
    "1. El promedio de la distancia de viaje (`trip_distance`) para cada mes (`pickup_month`)\n",
    "2. Cantidad de viajes desde JFK por día del mes"
   ]
  },
  {
   "cell_type": "markdown",
   "metadata": {},
   "source": []
  }
 ],
 "metadata": {
  "hide_input": false,
  "kernelspec": {
   "display_name": "Otree5",
   "language": "python",
   "name": "python3"
  },
  "language_info": {
   "codemirror_mode": {
    "name": "ipython",
    "version": 3
   },
   "file_extension": ".py",
   "mimetype": "text/x-python",
   "name": "python",
   "nbconvert_exporter": "python",
   "pygments_lexer": "ipython3",
   "version": "3.9.16"
  },
  "toc": {
   "base_numbering": 1,
   "nav_menu": {},
   "number_sections": true,
   "sideBar": true,
   "skip_h1_title": false,
   "title_cell": "Table of Contents",
   "title_sidebar": "Contents",
   "toc_cell": false,
   "toc_position": {},
   "toc_section_display": true,
   "toc_window_display": false
  }
 },
 "nbformat": 4,
 "nbformat_minor": 4
}
