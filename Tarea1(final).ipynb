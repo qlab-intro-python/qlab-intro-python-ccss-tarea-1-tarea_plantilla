{
 "cells": [
  {
   "cell_type": "markdown",
   "metadata": {},
   "source": [
    "# **Tarea Nº 1**"
   ]
  },
  {
   "cell_type": "markdown",
   "metadata": {},
   "source": [
    "Curso:          Fundamentos de Programación en Python\n",
    "Profesor:       Victor Fuentes Campos     "
   ]
  },
  {
   "cell_type": "markdown",
   "metadata": {},
   "source": [
    "- Fecha y hora de entrega: Domingo Jueves 1 de dicieimbre, 11:59pm\n",
    "- Agregue los nombres de las personas con las que discutió esta tarea: ____ Gabriel Vargas ______\n",
    "- Envíe su tarea haciendo el `push` de su código a su repo en GitHub Classroom: "
   ]
  },
  {
   "cell_type": "markdown",
   "metadata": {},
   "source": [
    "# 1. Git"
   ]
  },
  {
   "cell_type": "markdown",
   "metadata": {},
   "source": [
    "\n",
    "a. Commit, Push, Pull\n",
    "\n",
    "Instrucciones:\n",
    "1. Cada miembro del equipo debe clonar el repo de su tarea en su computadora\n",
    "1. Luego, en el branch master (`main`), el integrante Nº 1 cambia el nombre del archivo `.ipynb` a `tarea_1.ipynb`\n",
    "1. Usando GitHub Desktop, el integrante Nº 2 notará que hay cambios en el repo. Por lo tanto, hará el `pull` de la nueva versión del repo. Ahora ambos tiene el archivo con el nombre apropiado en sus computadoras\n",
    "\n",
    "*Este ejercicio se calificará directamente en GitHub*\n",
    "\n",
    "b. Merge conflicts (opcional)\n",
    "\n",
    "1. El integrante Nº 1 abre un branch nuevo `merge_conflict_practice_1`. En el archivo `tarea_1.ipynb` reemplazará \"Armando Paredes\" por su nombre. Luego, hará `commit`y `push` de a GitHub. (En Github Desktop se llama `publish`)\n",
    "1. El integrante Nº 2 abre un branch nuevo `merge_conflict_practice_2`. En el archivo `tarea_1.ipynb` reemplazará \"Armando Paredes\" por su nombre. Luego, hará `commit`y `push` de a GitHub. (En Github Desktop se llama `publish`)\n",
    "1. El integrante Nº 1 hará un `pull request`\n",
    "1. El integrante Nº 2 hará el `review` del `pull request`, aceptará los cambios de su compañero y hará `merge` del branch al `master`. ¡Listo, completaste tu primer pull request!\n",
    "1. El integrante Nº 2 hará un `pull request`\n",
    "1. El integrante Nº 1 hará el `review` del `pull request` y habrá un `merge conflict` poeque ambos están cambiando la misma línea de código. Ajuste el archivo y complete el `merge``\n",
    "Cambie de roles y fuerce un `merge conflict` con una sección diferente del archivo `tarea_1.ipynb` (Fecha de entrega, nombre del curso, etc.)\n",
    "1. Explique muy brevemente porque se generó el `merge conflict`"
   ]
  },
  {
   "cell_type": "markdown",
   "metadata": {},
   "source": [
    "*Respuesta: ______________________________*"
   ]
  },
  {
   "cell_type": "markdown",
   "metadata": {},
   "source": [
    "# 2. Variables"
   ]
  },
  {
   "cell_type": "markdown",
   "metadata": {},
   "source": [
    "Considere la siguiente información como punto de partida y complete los espacios en blanco"
   ]
  },
  {
   "cell_type": "code",
   "execution_count": 1,
   "metadata": {},
   "outputs": [],
   "source": [
    "monthly_savings = 10\n",
    "num_months = 12"
   ]
  },
  {
   "cell_type": "markdown",
   "metadata": {},
   "source": [
    "a. Calculate year_savings using monthly_savings and num_months\n"
   ]
  },
  {
   "cell_type": "code",
   "execution_count": 4,
   "metadata": {},
   "outputs": [
    {
     "name": "stdout",
     "output_type": "stream",
     "text": [
      "120\n"
     ]
    }
   ],
   "source": [
    "# Calculate the product of monthly_savings and num_months\n",
    "years_savings= monthly_savings*num_months\n",
    "print(years_savings)"
   ]
  },
  {
   "cell_type": "markdown",
   "metadata": {},
   "source": [
    "b. Print the type of year_savings"
   ]
  },
  {
   "cell_type": "code",
   "execution_count": 5,
   "metadata": {},
   "outputs": [
    {
     "data": {
      "text/plain": [
       "int"
      ]
     },
     "execution_count": 5,
     "metadata": {},
     "output_type": "execute_result"
    }
   ],
   "source": [
    "# What do you think the resulting type will be? Find out by printing out the type of year_savings.\n",
    "type(years_savings)"
   ]
  },
  {
   "cell_type": "markdown",
   "metadata": {},
   "source": [
    "# 3. Lists"
   ]
  },
  {
   "cell_type": "markdown",
   "metadata": {},
   "source": [
    "Considere la siguiente información como punto de partida y complete los espacios en blanco"
   ]
  },
  {
   "cell_type": "code",
   "execution_count": 7,
   "metadata": {},
   "outputs": [
    {
     "name": "stdout",
     "output_type": "stream",
     "text": [
      "Defaulting to user installation because normal site-packages is not writeable\n",
      "Collecting numpy\n",
      "  Downloading numpy-2.1.3-cp312-cp312-win_amd64.whl.metadata (60 kB)\n",
      "Downloading numpy-2.1.3-cp312-cp312-win_amd64.whl (12.6 MB)\n",
      "   ---------------------------------------- 0.0/12.6 MB ? eta -:--:--\n",
      "   --------- ------------------------------ 2.9/12.6 MB 14.0 MB/s eta 0:00:01\n",
      "   ------------------- -------------------- 6.0/12.6 MB 14.2 MB/s eta 0:00:01\n",
      "   ----------------------------- ---------- 9.2/12.6 MB 14.3 MB/s eta 0:00:01\n",
      "   ---------------------------------------  12.3/12.6 MB 14.3 MB/s eta 0:00:01\n",
      "   ---------------------------------------- 12.6/12.6 MB 13.6 MB/s eta 0:00:00\n",
      "Installing collected packages: numpy\n",
      "Successfully installed numpy-2.1.3\n",
      "Note: you may need to restart the kernel to use updated packages.\n"
     ]
    },
    {
     "name": "stderr",
     "output_type": "stream",
     "text": [
      "\n",
      "[notice] A new release of pip is available: 24.2 -> 24.3.1\n",
      "[notice] To update, run: python.exe -m pip install --upgrade pip\n"
     ]
    }
   ],
   "source": [
    "%pip install numpy"
   ]
  },
  {
   "cell_type": "code",
   "execution_count": 8,
   "metadata": {},
   "outputs": [],
   "source": [
    "import numpy as np\n",
    "f_list = [\"Brazil\", np.nan , np.nan, \"Austria\", \"Germany\", np.nan, \"Pakistan\", \"np.nan\", np.nan ]\n",
    "text1 = ['My', 'new', 'teacher', 'assistant', 'is', 'so', 'boring.']\n",
    "p1_list = [ 2 , 3, 4, 5 , 6 ]\n",
    "values1 = [ 86, 86, 85, 85, 85, 83, 23, 0, 84, 1, 91 ]\n",
    "last_and_name = [ \"CORNEJO SANCHEZ, CHRISTIAN SANTOS\", \"ORELLANA QUISPE, CRISTIAN NASSER\", \"MORALES CHOQUEHUANCA, ANGELICA KARINA\", \"GUIMARAY RIBEYRO, JOSE ROBERTO\", \"CAMACHO GAVIDIA, ABEL FERNANDO\", \"TINTAYA ORIHUELA, MEIR ALVARO\", \"CHAVEZ MARTINEZ, JOSELIN ALEXANDRA\", \"FIGUEROA MURO, LEONEL ARTURO\", \"GOMEZ CRIBILLERO, JOSE FELIPE\", \"PALOMINO SEGUÍN, AFRANIA\", \"LUZON CUEVA, BIANCA MARIETTE\", \"SUAÑA ZEGARRA, ADRIAN ANDRE\", \"SOTO POMACHAGUA, DORKAS YOMIRA JHERMY\", \"FIORENTINO MARTINEZ, LADY ALY\", \"LAMA MAVILA, HECTOR ANDRE\", \"MEZA HINOJO, GUSTAVO\", \"LOZADA MURILLO, PERSEO MARCELO\", \"ZAMBRANO JIMENEZ, MIGUEL ALONZO\", \"JACOBS LUQUE, NICOLAS\", \"VIDAL VIDAL, ROCIO GABRIELA\", \"TORRES ANICAMA, JANE CAMILA\", \"LOPEZ ESTRADA, MARIA ELISA\", \"BOYCO ORAMS, ALEJANDRO\", \"DIAZ BERROSPI, KARLINE ROSMELI\", \"RIEGA ESCALANTE, STEPHY ROSARIO\", \"LEVANO TORRES, VALERIA CECILIA\", \"ESQUIVES BRAVO, SEBASTIAN RENATO\", \"PEREZ GONZALES, JUAN CARLOS\", \"OTERO MAGUIÑA, MARIANA\", \"CLAVO CAMPOS, ANDREA BRIZETH\", \"AGUILAR GARCIA, ERICK JOSUE\", \"CALDAS VELASQUEZ, JOSUE DANIEL\", \"SALAS NUÑEZ BORJA, FABIO MANUEL\", \"PIZARRO VILLANES, FERNANDA NICOLLE\", \"QUILLATUPA MORALES, ANGELA ADELINA\", \"HUANCAYA IDONE, CESAR DANTE\", \"CALVO PORTOCARRERO, GABRIELA ISABEL\", \"IBAÑEZ ABANTO, ANGEL MAURICIO\", \"MELÉNDEZ APONTE, JUAN DIEGO\", \"CRISTIAN SERRANO, ARONE\", \"HINOJOSA CAHUANA, PERCY ALBERTH\", \"ANGLAS GARCÍA, KEVIN ARTURO\", \"ALDAVE ACOSTA, CESAR ERNESTO\", \"NÚÑEZ HUAMÁN, CÉSAR AGUSTO\", \"OBREGON HUAMAN, DIANA EDITH\", \"SOTO PACHERRES, RODRIGO FRANCO\", \"INGARUCA RIVERA, GRETTEL ALEXANDRA\", \"ROJAS HUAMAN, ROSA ANGELA\", \"NEYRA SALAS, DANTE OMAR\", \"HUERTA ESPINOZA, YAJAIRA ALEXANDRA\", \"HUANCA MARTINEZ, JORGE ALBERTO\", \"FLORES CADILLO, ALEXIS\" ]\n",
    "emails = [\"cscornejo@pucp.edu.pe\", \"orellana.cn@pucp.edu.pe\", \"karina.morales@pucp.edu.pe\", \"a20083223@pucp.pe\", \"abel.camacho@pucp.pe\", \"mtintaya@pucp.edu.pe\", \"joselin.chavez@pucp.edu.pe\", \"a20105737@pucp.pe\", \"jfgomezc@pucp.pe\", \"afrania.palomino@pucp.pe\", \"luzon.bianca@pucp.pe\", \"adrian.suanaz@pucp.pe\", \"soto.y@pucp.edu.pe\", \"a20132766@pucp.pe\", \"andre.lama@pucp.edu.pe\", \"gustavo.meza@pucp.edu.pe\", \"pmlozada@pucp.edu.pe\", \"m.zambranoj@pucp.edu.pe\", \"nicolas.jacobs@pucp.edu.pe\", \"gvidal@pucp.edu.pe\", \"jane.torres@pucp.edu.pe\", \"m.lopez@pucp.edu.pe\", \"alejandro.boyco@pucp.edu.pe\", \"a20167070@pucp.edu.pe\", \"riega.stephy@pucp.edu.pe\", \"vlevanot@pucp.edu.pe\", \"sesquives@pucp.edu.pe\", \"perez.juanc@pucp.edu.pe\", \"mariana.otero@pucp.edu.pe\", \"aclavo@pucp.edu.pe\", \"a20182474@pucp.edu.pe\", \"josue.caldas@pucp.edu.pe\", \"fabio.salas@pucp.edu.pe\", \"fernanda.pizarro@pucp.edu.pe\", \"aquillatupa@pucp.pe\", \"\", \"\", \"\", \"\", \"\", \"f0873079@pucp.edu.pe\", \"\", \"\", \"\", \"\", \"\", \"\", \"\", \"\", \"\", \"\", \"flores.alexis@pucp.edu.pe\", ]"
   ]
  },
  {
   "cell_type": "markdown",
   "metadata": {},
   "source": [
    "a. Show the indices of the `np.nan`` values in the `f_list` list. We want to see this output: *The indices 1, 2, 5, 8 have np.nan values*. Hint: Use print function and f-strings to insert the indices values."
   ]
  },
  {
   "cell_type": "code",
   "execution_count": 30,
   "metadata": {},
   "outputs": [],
   "source": [
    "# Show indices for np.nan values\n"
   ]
  },
  {
   "cell_type": "markdown",
   "metadata": {},
   "source": [
    "b. Replicate 4 times the values of the list `p1_list`. We expect an ouput like this: [ 2 , 3, 4, 5, 2 , 3, 4, 5, 2 , 3, 4, 5, 2 , 3, 4, 5]. Hint: Use multiplication function in listsand see the output."
   ]
  },
  {
   "cell_type": "code",
   "execution_count": 21,
   "metadata": {},
   "outputs": [
    {
     "name": "stdout",
     "output_type": "stream",
     "text": [
      "[2, 3, 4, 5, 6, 2, 3, 4, 5, 6, 2, 3, 4, 5, 6, 2, 3, 4, 5, 6]\n"
     ]
    }
   ],
   "source": [
    "# Replicates p1_list\n",
    "n = 4\n",
    "p1_list_r = (p1_list)* n \n",
    "print(p1_list_r)"
   ]
  },
  {
   "cell_type": "markdown",
   "metadata": {},
   "source": [
    "c. Print the length of `f_list`. **Hint: Length function**"
   ]
  },
  {
   "cell_type": "code",
   "execution_count": 10,
   "metadata": {},
   "outputs": [
    {
     "data": {
      "text/plain": [
       "9"
      ]
     },
     "execution_count": 10,
     "metadata": {},
     "output_type": "execute_result"
    }
   ],
   "source": [
    "# Lenngth of f_list\n",
    "len(f_list)"
   ]
  },
  {
   "cell_type": "markdown",
   "metadata": {},
   "source": [
    "d. Print `My new teacher assistant is so boring.` using `text1` list. **Hint: Use the [`join` function](https://stackoverflow.com/questions/493819/why-is-it-string-joinlist-instead-of-list-joinstring)**"
   ]
  },
  {
   "cell_type": "code",
   "execution_count": 14,
   "metadata": {},
   "outputs": [
    {
     "data": {
      "text/plain": [
       "'My new teacher assistant is so boring.'"
      ]
     },
     "execution_count": 14,
     "metadata": {},
     "output_type": "execute_result"
    }
   ],
   "source": [
    "# Printing\n",
    "' '.join(text1)"
   ]
  },
  {
   "cell_type": "markdown",
   "metadata": {},
   "source": [
    "# 4. Strings"
   ]
  },
  {
   "cell_type": "markdown",
   "metadata": {},
   "source": [
    "Considere la siguiente información como punto de partida y complete los espacios en blanco"
   ]
  },
  {
   "cell_type": "code",
   "execution_count": 15,
   "metadata": {},
   "outputs": [],
   "source": [
    "str1 = 'I am                            too                                                        old'\n",
    "emails = [\"cscornejo@pucp.edu.pe\", \"orellana.cn@pucp.edu.pe\", \"karina.morales@pucp.edu.pe\", \"a20083223@pucp.pe\", \"abel.camacho@pucp.pe\", \"mtintaya@pucp.edu.pe\", \"joselin.chavez@pucp.edu.pe\", \"a20105737@pucp.pe\", \"jfgomezc@pucp.pe\", \"afrania.palomino@pucp.pe\", \"luzon.bianca@pucp.pe\", \"adrian.suanaz@pucp.pe\", \"soto.y@pucp.edu.pe\", \"a20132766@pucp.pe\", \"andre.lama@pucp.edu.pe\", \"gustavo.meza@pucp.edu.pe\", \"pmlozada@pucp.edu.pe\", \"m.zambranoj@pucp.edu.pe\", \"nicolas.jacobs@pucp.edu.pe\", \"gvidal@pucp.edu.pe\", \"jane.torres@pucp.edu.pe\", \"m.lopez@pucp.edu.pe\", \"alejandro.boyco@pucp.edu.pe\", \"a20167070@pucp.edu.pe\", \"riega.stephy@pucp.edu.pe\", \"vlevanot@pucp.edu.pe\", \"sesquives@pucp.edu.pe\", \"perez.juanc@pucp.edu.pe\", \"mariana.otero@pucp.edu.pe\", \"aclavo@pucp.edu.pe\", \"a20182474@pucp.edu.pe\", \"josue.caldas@pucp.edu.pe\", \"fabio.salas@pucp.edu.pe\", \"fernanda.pizarro@pucp.edu.pe\", \"aquillatupa@pucp.pe\"]"
   ]
  },
  {
   "cell_type": "markdown",
   "metadata": {},
   "source": [
    "1. Drop the duplicated blank spaces in `str1`. Do not use the regular expresions. Do not use the code shown in class. Explain your steps.**Hint: Use `split` method and `join` function.**"
   ]
  },
  {
   "cell_type": "code",
   "execution_count": 56,
   "metadata": {},
   "outputs": [
    {
     "name": "stdout",
     "output_type": "stream",
     "text": [
      "['I', 'am', 'too', 'old']\n",
      "I am too old\n"
     ]
    }
   ],
   "source": [
    "# Drop duplicated blank spaces\n",
    "separar=str1.split()\n",
    "print(separar)\n",
    "juntar=(\" \").join(separar)\n",
    "print(juntar)"
   ]
  },
  {
   "cell_type": "markdown",
   "metadata": {},
   "source": [
    "2. Get the number of letters in the string .**Hint: Use `len`function.**"
   ]
  },
  {
   "cell_type": "code",
   "execution_count": null,
   "metadata": {},
   "outputs": [
    {
     "name": "stdout",
     "output_type": "stream",
     "text": [
      "9\n"
     ]
    }
   ],
   "source": [
    "# Number of letters\n",
    "letters_only=[char for char in str1 if char.isalpha()]\n",
    "num_letters=len(letters_only)\n",
    "print(num_letters)"
   ]
  },
  {
   "cell_type": "markdown",
   "metadata": {},
   "source": [
    "3. (Optional) Get the number of blank spaces (all of them) in the string .**Hint: Use `len`function.**"
   ]
  },
  {
   "cell_type": "code",
   "execution_count": null,
   "metadata": {},
   "outputs": [
    {
     "name": "stdout",
     "output_type": "stream",
     "text": [
      "85\n"
     ]
    }
   ],
   "source": [
    "# Number of blanck spaces (en str1)\n",
    "blank_only=str1.count(\" \")\n",
    "print(blank_only)"
   ]
  },
  {
   "cell_type": "code",
   "execution_count": 57,
   "metadata": {},
   "outputs": [
    {
     "name": "stdout",
     "output_type": "stream",
     "text": [
      "3\n"
     ]
    }
   ],
   "source": [
    "# número de espacios en blacno en la versión junta\n",
    "blank_only2=juntar.count(\" \")\n",
    "print(blank_only2)"
   ]
  },
  {
   "cell_type": "markdown",
   "metadata": {},
   "source": [
    "# 5. NumPy"
   ]
  },
  {
   "cell_type": "markdown",
   "metadata": {},
   "source": [
    "Considere la siguiente información como punto de partida y complete los espacios en blanco"
   ]
  },
  {
   "cell_type": "code",
   "execution_count": 16,
   "metadata": {},
   "outputs": [
    {
     "data": {
      "text/plain": [
       "array([12, 10,  9,  1,  2, 13,  3,  8,  0, 10, 10,  7,  3,  4, 11,  2,  7,\n",
       "        4, 14,  6,  1,  1,  5, 14,  0,  1, 13,  1, 13,  5, 14,  9,  5,  8,\n",
       "        8, 10,  3,  3,  0, 14, 14,  4,  8,  9,  6, 11,  3, 12, 12,  3,  7,\n",
       "        7,  3, 14, 13, 13,  7,  8, 10,  9,  0, 10, 12,  8, 11,  6,  6, 14,\n",
       "        7, 11,  7, 12,  8, 13, 10,  3, 11,  4, 12, 10, 12,  8, 12,  1, 11,\n",
       "        1,  7,  6, 13,  6,  4,  7,  8, 10, 11,  5, 12,  8,  2, 10,  5, 11,\n",
       "       13,  1, 14,  7,  9,  9, 10,  0,  7,  1, 13,  2,  9,  2,  0,  0,  5,\n",
       "        7,  7,  1,  3, 14,  2,  1,  4,  1,  8,  8,  0,  5, 11,  7, 12,  8,\n",
       "        1,  6,  4,  3,  4,  2,  9, 13,  7, 10,  4, 10,  5,  1,  5,  8,  2,\n",
       "        0, 11,  2,  8,  1,  0, 12, 10,  9,  5, 12, 13,  6,  1,  5,  4,  0,\n",
       "        6,  5, 14,  8, 12,  3,  4, 12,  2, 11, 14, 11, 13,  0, 12,  1,  6,\n",
       "        1,  9,  9,  8, 10,  8,  5,  9, 13, 10,  2, 12,  0,  2, 14,  7, 11,\n",
       "        0,  9, 12, 11,  3, 13,  4, 10,  8,  1, 14, 14,  3, 13,  3,  8, 14,\n",
       "        5,  9,  9,  2,  1,  6,  7,  2, 11,  2,  6,  2,  4, 10,  2,  8,  5,\n",
       "        1, 11,  7,  3, 14, 12, 13,  0,  7,  6,  8,  7,  4,  0,  2,  4,  2,\n",
       "        3,  6,  9,  5, 13, 13,  1,  0, 12, 10,  9, 12, 13,  9,  6, 11,  2,\n",
       "       14,  8, 10,  3, 14,  5, 13, 14,  4, 13,  6,  0, 14,  2,  4, 12,  4,\n",
       "        3, 11, 10,  7,  5,  8,  1, 11,  5,  9,  8, 11,  5, 13,  5, 12, 14,\n",
       "        0,  3,  7,  0, 12,  6,  7,  8,  2,  5,  9, 12, 14, 10,  0,  2, 14,\n",
       "        2, 12,  6,  1,  6,  2, 11,  9, 11, 14,  1,  3,  9,  5, 14, 13,  4,\n",
       "       11,  7, 13, 11, 12,  0,  4,  5, 14,  9,  2, 11,  9,  4,  5, 13, 10,\n",
       "       10,  9, 10,  4,  7, 14,  7,  5,  6,  1, 11, 13,  3,  1,  8, 12,  6,\n",
       "       12, 10,  9, 12,  0,  8,  8,  2,  3, 13,  6,  8, 11,  6,  7,  4,  8,\n",
       "        6, 10,  6, 11, 11,  2,  5,  4,  2, 11,  6,  8,  7,  7, 12, 13,  5,\n",
       "       14,  2, 10,  6,  0, 12,  3,  7,  2, 10,  2, 11, 11,  4, 10,  0,  6,\n",
       "        7,  0,  0,  1, 14,  8,  0,  8, 10, 11,  0, 12, 12,  5,  4,  3,  2,\n",
       "        9, 10, 11, 10, 12,  3, 14,  6, 13,  3,  4,  5,  6, 12,  9,  2, 11,\n",
       "        3,  9,  8,  8,  6,  3,  8,  2,  7, 12,  8,  4, 11,  5,  0,  5,  9,\n",
       "        1,  5, 14,  7,  5,  4,  0,  0, 11, 11, 10,  2,  8,  1, 11,  0, 11,\n",
       "        4,  0,  9, 12, 11,  4,  7,  2,  4, 10, 12,  4,  2,  5,  5, 12,  7,\n",
       "        5, 12,  7,  2,  6,  8, 13,  3,  2,  8, 14,  9,  9, 10, 13,  8, 11,\n",
       "       10,  9,  8,  4, 10,  3, 10,  1, 14,  1,  7,  1,  5,  4, 11,  3,  5,\n",
       "       10,  5,  4, 10,  5,  7,  1, 13,  1, 12,  3,  1,  1,  8,  6,  7,  6,\n",
       "        6,  1,  8, 11,  9, 14,  2,  2,  7,  1, 13,  5,  8,  3, 12,  9,  1,\n",
       "       10,  4,  8,  3,  8, 14, 13, 12, 12,  5,  6,  1,  6, 11,  6, 11,  6,\n",
       "       13,  1,  5,  0, 12, 10,  5,  1,  4,  4, 12,  9,  8, 11,  0, 12,  6,\n",
       "        2,  3,  1, 10,  9, 13,  3,  8, 12,  8, 13,  0,  3, 11,  1,  6,  5,\n",
       "        9,  6,  7,  4, 12, 11,  7,  8, 11,  4,  6,  8, 12, 14,  4,  4,  2,\n",
       "        6,  9, 14, 13,  0,  7, 10, 14,  4, 14,  6,  3,  8,  6, 12,  8,  9,\n",
       "       11,  7,  6,  0,  6,  1, 10,  6,  0, 14, 10,  9,  6,  7,  3,  0, 12,\n",
       "        0, 14, 11,  9,  9, 10,  0,  4,  3, 14,  0,  4, 10,  9,  4, 12,  5,\n",
       "       10,  6,  4,  4,  8, 10, 11,  2, 14,  4, 11,  3,  8, 13,  5,  0, 11,\n",
       "        0, 14, 12,  9,  5,  6,  8, 12,  3, 14,  4,  4,  9,  1, 13,  0,  5,\n",
       "       13,  2,  2,  1,  4,  7, 10, 11,  8, 13,  2, 14,  2,  0, 12,  7,  2,\n",
       "        6,  8,  1, 14, 11, 13,  1, 14,  7,  4,  3,  5,  8,  6,  2, 12,  3,\n",
       "       11,  5,  2,  2,  8,  6,  4,  1, 11,  6,  9,  8,  1,  2,  3, 11,  4,\n",
       "       12,  4,  3,  4,  2,  9,  6, 10, 14,  8, 10,  5, 10, 10, 13,  5, 11,\n",
       "       11, 11,  1, 14,  8, 14, 12, 10,  9, 12,  0, 13,  0,  5,  7,  5,  5,\n",
       "        1,  5,  1,  5,  3,  1,  1,  2,  7, 11,  6, 11,  5,  3,  6,  5, 12,\n",
       "       14,  4,  4, 10, 13, 13,  8,  8, 12, 11,  7, 10,  2, 14,  1,  9, 10,\n",
       "        3,  0,  4,  2, 13,  3,  9,  2,  5,  5,  0,  5,  2, 11, 12,  5,  5,\n",
       "       12,  3,  5, 12, 12, 14, 10,  5,  4,  5,  5,  3, 10, 13,  4,  7,  6,\n",
       "       14,  8,  0,  6,  8,  5,  9,  1,  5,  8,  2, 13,  2, 12,  9,  6,  4,\n",
       "        4,  0, 12,  9,  7,  1,  5,  7,  5,  1, 14,  1, 12, 12,  8, 14, 10,\n",
       "        3, 14,  2,  6,  7,  8, 13, 13,  4, 14, 13,  0, 13, 14,  1,  9,  8,\n",
       "        4, 10,  1,  5,  6,  5,  5, 12, 13, 11, 13,  6, 12,  8,  5, 14, 10,\n",
       "       13,  5, 11,  8,  1, 12,  7, 11, 13,  6,  6,  4, 11,  2, 14,  6, 14,\n",
       "        7,  8,  1,  7, 11,  3,  8, 13,  8, 14,  0,  3,  1,  0,  5,  5,  3,\n",
       "        7,  3, 14,  7,  8,  9,  1,  3,  8, 12,  6, 10, 14, 12],\n",
       "      dtype=int32)"
      ]
     },
     "execution_count": 16,
     "metadata": {},
     "output_type": "execute_result"
    }
   ],
   "source": [
    "prueba1 = np.random.randint(0,15,1000)\n",
    "prueba1\n"
   ]
  },
  {
   "cell_type": "code",
   "execution_count": 17,
   "metadata": {},
   "outputs": [
    {
     "data": {
      "text/plain": [
       "array([43, 22, 15, 42, 45, 10, 47,  2,  3, 34,  4,  6,  8, 33, 31, 48, 39,\n",
       "       40, 41,  7, 28, 24, 27,  5, 49, 36, 19, 23, 37, 35, 11, 20, 12, 29,\n",
       "       38, 46, 44,  9, 21, 32,  0, 25, 18, 17, 16, 30,  1, 14, 26, 13])"
      ]
     },
     "execution_count": 17,
     "metadata": {},
     "output_type": "execute_result"
    }
   ],
   "source": [
    "prueba2 = np.arange(50)\n",
    "np.random.shuffle(prueba2)\n",
    "prueba2"
   ]
  },
  {
   "cell_type": "markdown",
   "metadata": {},
   "source": [
    "a. Find the most frequent value in the prueba1 array?"
   ]
  },
  {
   "cell_type": "code",
   "execution_count": 29,
   "metadata": {},
   "outputs": [
    {
     "name": "stdout",
     "output_type": "stream",
     "text": [
      "Moda: 5\n"
     ]
    }
   ],
   "source": [
    "# Most frequent value\n",
    "values, counts = np.unique(prueba1, return_counts=True)\n",
    "mode = values[np.argmax(counts)]\n",
    "print(f\"Moda: {mode}\")\n"
   ]
  },
  {
   "cell_type": "markdown",
   "metadata": {},
   "source": [
    "b. Convert the 1D array prueba2 to a 2D array with 5 rows"
   ]
  },
  {
   "cell_type": "code",
   "execution_count": 20,
   "metadata": {},
   "outputs": [
    {
     "data": {
      "text/plain": [
       "array([[43, 22, 15, 42, 45, 10, 47,  2,  3, 34],\n",
       "       [ 4,  6,  8, 33, 31, 48, 39, 40, 41,  7],\n",
       "       [28, 24, 27,  5, 49, 36, 19, 23, 37, 35],\n",
       "       [11, 20, 12, 29, 38, 46, 44,  9, 21, 32],\n",
       "       [ 0, 25, 18, 17, 16, 30,  1, 14, 26, 13]])"
      ]
     },
     "execution_count": 20,
     "metadata": {},
     "output_type": "execute_result"
    }
   ],
   "source": [
    "# Reshape\n",
    "prueba2_2D=prueba2.reshape(5,10)\n",
    "prueba2_2D"
   ]
  },
  {
   "cell_type": "markdown",
   "metadata": {},
   "source": [
    "# 6. Pandas"
   ]
  },
  {
   "cell_type": "markdown",
   "metadata": {},
   "source": [
    "Utilice la base de datos `nyc_taxis.csv`"
   ]
  },
  {
   "cell_type": "markdown",
   "metadata": {},
   "source": [
    "Let's work with a subset of the New York City taxi trip data released by the city. We'll focus on about 90,000 yellow taxi trips to and from various NYC airports between January and June 2016. Here are some selected columns from the dataset:\n",
    "\n",
    "- `pickup_month`: the month of the trip (January is 1, December is 12)\n",
    "- `pickup_day`: the day of the month of the trip\n",
    "- `pickup_location_code`: the airport or borough where the trip started\n",
    "- `dropoff_location_code`: the airport or borough where the trip ended\n",
    "- `trip_distance`: the distance of the trip in miles\n",
    "- `trip_length`: the length of the trip in seconds\n",
    "- `fare_amount`: the base fare of the trip, in dollars\n",
    "- `total_amount`: the total amount charged to the passenger, including all fees, tolls, and tips\n",
    "\n",
    "\n",
    "Review the dictionary data [here](https://s3.amazonaws.com/dq-content/289/nyc_taxi_data_dictionary.md).\n",
    "\n",
    "Our data is stored in a CSV file called `nyc_taxis.csv`\n"
   ]
  },
  {
   "cell_type": "markdown",
   "metadata": {},
   "source": [
    "Calcule:\n",
    "1. El promedio de la distancia de viaje (`trip_distance`) para cada mes (`pickup_month`)\n",
    "2. Cantidad de viajes desde JFK por día del mes"
   ]
  },
  {
   "cell_type": "markdown",
   "metadata": {},
   "source": []
  }
 ],
 "metadata": {
  "hide_input": false,
  "kernelspec": {
   "display_name": "Python 3",
   "language": "python",
   "name": "python3"
  },
  "language_info": {
   "codemirror_mode": {
    "name": "ipython",
    "version": 3
   },
   "file_extension": ".py",
   "mimetype": "text/x-python",
   "name": "python",
   "nbconvert_exporter": "python",
   "pygments_lexer": "ipython3",
   "version": "3.12.5"
  },
  "toc": {
   "base_numbering": 1,
   "nav_menu": {},
   "number_sections": true,
   "sideBar": true,
   "skip_h1_title": false,
   "title_cell": "Table of Contents",
   "title_sidebar": "Contents",
   "toc_cell": false,
   "toc_position": {},
   "toc_section_display": true,
   "toc_window_display": false
  }
 },
 "nbformat": 4,
 "nbformat_minor": 4
}
